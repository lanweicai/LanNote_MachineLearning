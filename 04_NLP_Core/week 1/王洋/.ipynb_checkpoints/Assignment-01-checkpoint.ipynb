{
 "cells": [
  {
   "cell_type": "markdown",
   "metadata": {},
   "source": [
    "## Lesson-01 Assignment"
   ]
  },
  {
   "cell_type": "markdown",
   "metadata": {},
   "source": [
    "#### 今天是2020年6月11日，今天世界上又多了一名AI工程师 :) "
   ]
  },
  {
   "cell_type": "markdown",
   "metadata": {},
   "source": [
    "`各位同学大家好，欢迎各位开始学习我们的人工智能课程。这门课程假设大家不具备机器学习和人工智能的知识，但是希望大家具备初级的Python编程能力。根据往期同学的实际反馈，我们课程的完结之后 能力能够超过80%的计算机人工智能/深度学习方向的硕士生的能力。`"
   ]
  },
  {
   "cell_type": "markdown",
   "metadata": {},
   "source": [
    "## 本次作业的内容"
   ]
  },
  {
   "cell_type": "markdown",
   "metadata": {},
   "source": [
    "#### 1. 复现课堂代码\n",
    "\n",
    "在本部分，你需要参照我们给大家的GitHub地址里边的课堂代码，结合课堂内容，复现内容。"
   ]
  },
  {
   "cell_type": "markdown",
   "metadata": {},
   "source": [
    "#### 2. 作业截止时间\n",
    "此次作业截止时间为 2020.6.18日"
   ]
  },
  {
   "cell_type": "markdown",
   "metadata": {},
   "source": [
    "#### 3. 完成以下问答和编程练习"
   ]
  },
  {
   "cell_type": "markdown",
   "metadata": {},
   "source": [
    "复现语法树（Syntax tree）实现代码"
   ]
  },
  {
   "cell_type": "code",
   "execution_count": 1,
   "metadata": {},
   "outputs": [
    {
     "data": {
      "text/plain": [
       "'2-1-1+3'"
      ]
     },
     "execution_count": 1,
     "metadata": {},
     "output_type": "execute_result"
    }
   ],
   "source": [
    "import random\n",
    "nummbers_ops = \"\"\"\n",
    "expression => expression op num_op | num_op\n",
    "num_op => num op num\n",
    "num => 0 | 1 | 2 | 3 | 4 | 5 | 6 | 7 | 8 | 9 \n",
    "op => + | - | * |/\n",
    "\"\"\"\n",
    "def generate_grammar(grammar_str: str, split='=>'):\n",
    "    grammar = {}\n",
    "\n",
    "    for line in grammar_str.split(\"\\n\"):\n",
    "        if not line: continue\n",
    "        expression, formula = line.split(split) \n",
    "        formulas = formula.split('|')     \n",
    "        formulas = [f.split() for f in formulas]\n",
    "        grammar[expression.strip()] = formulas\n",
    "    return grammar\n",
    "\n",
    "# grammar = generate_grammar(nummbers_ops,'=>')\n",
    "def generate_by_grammar(grammar: dict, target: str):\n",
    "    if target not in grammar: return target \n",
    "    \n",
    "    expr = random.choice(grammar[target])  \n",
    "    return ''.join(generate_by_grammar(grammar, t) for t in expr)\n",
    "\n",
    "\n",
    "# grammar = generate_grammar(nummbers_ops,'=>')\n",
    "# generate_by_grammar(grammar,\"expression\")\n",
    "def generate_by_str(grammar_str: str, target: str,split='=>'):\n",
    "    return generate_by_grammar(generate_grammar(grammar_str,split),target)\n",
    "generate_by_str(nummbers_ops,\"expression\",'=>')"
   ]
  },
  {
   "cell_type": "markdown",
   "metadata": {},
   "source": [
    "语法树方法测试"
   ]
  },
  {
   "cell_type": "code",
   "execution_count": 2,
   "metadata": {},
   "outputs": [
    {
     "name": "stdout",
     "output_type": "stream",
     "text": [
      "假设白白醒了,可以去吃饭\n",
      "我们找找乐子\n",
      "你好我是57号,您需要赌博吗？\n"
     ]
    }
   ],
   "source": [
    "#在西部世界里，一个”人类“的语言可以定义为：\n",
    "\n",
    "human = \"\"\"\n",
    "human = 自己 寻找 活动\n",
    "自己 = 我 | 俺 | 我们 \n",
    "寻找 = 找找 | 想找点 \n",
    "活动 = 乐子 | 玩的\n",
    "\"\"\"\n",
    "\n",
    "假如既然 = \"\"\"\n",
    "句子 = if someone state , then do something\n",
    "if = 既然 | 如果 | 假设\n",
    "someone = one 和 someone | one\n",
    "one = 小红 | 小蓝 | 小绿 | 白白\n",
    "state = 饿了 | 醒了 | 醉了 | 癫狂了\n",
    "then = 那么 | 就 | 可以\n",
    "do = 去  \n",
    "something = 吃饭 | 玩耍 | 去浪 | 睡觉\n",
    "\"\"\"\n",
    "\n",
    "host = \"\"\"\n",
    "host = 寒暄 报数 询问 业务相关 结尾 \n",
    "报数 = 我是 数字 号 ,\n",
    "数字 = 单个数字 | 数字 单个数字 \n",
    "单个数字 = 1 | 2 | 3 | 4 | 5 | 6 | 7 | 8 | 9 \n",
    "寒暄 = 称谓 打招呼 | 打招呼\n",
    "称谓 = 人称 ,\n",
    "人称 = 先生 | 女士 | 小朋友\n",
    "打招呼 = 你好 | 您好 \n",
    "询问 = 请问你要 | 您需要\n",
    "业务相关 = 具体业务\n",
    "具体业务 = 喝酒 | 打牌 | 打猎 | 赌博\n",
    "结尾 = 吗？\n",
    "\"\"\"\n",
    "print(generate_by_str(假如既然,\"句子\",'='))\n",
    "print(generate_by_str(human,\"human\",'='))\n",
    "print(generate_by_str(host,\"host\",'='))"
   ]
  },
  {
   "cell_type": "markdown",
   "metadata": {},
   "source": [
    "语言模型"
   ]
  },
  {
   "cell_type": "code",
   "execution_count": 243,
   "metadata": {},
   "outputs": [
    {
     "name": "stdout",
     "output_type": "stream",
     "text": [
      "Defaulting to user installation because normal site-packages is not writeable\n",
      "Requirement already satisfied: jieba in /home/stu_18550824403/.local/lib/python3.7/site-packages (0.42.1)\n"
     ]
    }
   ],
   "source": [
    "!pip install jieba"
   ]
  },
  {
   "cell_type": "code",
   "execution_count": null,
   "metadata": {},
   "outputs": [],
   "source": [
    "import jieba\n",
    "ARTICLES = open(\"article_9k.txt\").read()\n",
    "ALL_TOKEN = list(jieba.cut(ARTICLES))"
   ]
  },
  {
   "cell_type": "code",
   "execution_count": 111,
   "metadata": {},
   "outputs": [
    {
     "data": {
      "image/png": "[encoded data removed]",
      "text/plain": [
       "<Figure size 432x288 with 1 Axes>"
      ]
     },
     "metadata": {
      "needs_background": "light"
     },
     "output_type": "display_data"
    }
   ],
   "source": [
    "from collections import Counter\n",
    "import matplotlib.pyplot as plt\n",
    "%matplotlib inline\n",
    "\n",
    "def token_plot(tokens,num):   \n",
    "    word_counts = Counter(ALL_TOKEN)\n",
    "    most_common_words = word_counts.most_common(num)\n",
    "    frequencies = [f for w,f in most_common_words]\n",
    "    x = [i for i in range(num)]\n",
    "    plt.plot(x,frequencies)\n",
    "#     return most_common_words\n",
    "token_plot(ALL_TOKEN,100) "
   ]
  },
  {
   "cell_type": "code",
   "execution_count": null,
   "metadata": {},
   "outputs": [],
   "source": [
    "word_counts = Counter(ALL_TOKEN)\n",
    "most_common_500 = [w for w in word_counts.most_common(500)]\n",
    "most_common_5000_to_5500 = [w for w in word_counts.most_common(5500)][5000:]\n",
    "# most_common_5000_to_5500\n",
    "# word_counts[\"你\"]"
   ]
  },
  {
   "cell_type": "code",
   "execution_count": null,
   "metadata": {},
   "outputs": [],
   "source": [
    "min_frequences = min(f for w,f in word_counts.most_common())\n",
    "\n",
    "def prob_1(word):\n",
    "    if word in word_counts:\n",
    "        return word_counts[word] / len(ALL_TOKEN)\n",
    "    else:\n",
    "        return min_frequences / len(ALL_TOKEN)\n",
    "prob_1(\"你daffydeedfdf\")"
   ]
  },
  {
   "cell_type": "markdown",
   "metadata": {},
   "source": [
    "## 基础理论部分"
   ]
  },
  {
   "cell_type": "markdown",
   "metadata": {},
   "source": [
    "> **评阅点**：每道题是否回答完整"
   ]
  },
  {
   "cell_type": "markdown",
   "metadata": {},
   "source": [
    "#### 0. Can you come up out 3 sceneraies which use AI methods? "
   ]
  },
  {
   "cell_type": "markdown",
   "metadata": {},
   "source": [
    "Ans: {Put your answer here}\n",
    "    人脸识别、天猫精灵、阿尔法围棋机器人、智能客服系统"
   ]
  },
  {
   "cell_type": "markdown",
   "metadata": {},
   "source": [
    "#### 1. How do we use Github; Why do we use Jupyter and Pycharm;"
   ]
  },
  {
   "cell_type": "markdown",
   "metadata": {},
   "source": [
    "Ans: {Put your answer here}"
   ]
  },
  {
   "cell_type": "markdown",
   "metadata": {},
   "source": [
    "#### 2. What's the Probability Model?"
   ]
  },
  {
   "cell_type": "markdown",
   "metadata": {},
   "source": [
    "Ans：在语言模型中要依赖概率，选出最优方案的模型"
   ]
  },
  {
   "cell_type": "markdown",
   "metadata": {},
   "source": [
    "#### 3. Can you came up with some sceneraies at which we could use Probability Model?"
   ]
  },
  {
   "cell_type": "markdown",
   "metadata": {},
   "source": [
    "Ans:推荐系统、语法树生成最优句子"
   ]
  },
  {
   "cell_type": "markdown",
   "metadata": {},
   "source": [
    "#### 4. Why do we use probability and what's the difficult points for programming based on parsing and pattern match?"
   ]
  },
  {
   "cell_type": "markdown",
   "metadata": {},
   "source": [
    "Ans:"
   ]
  },
  {
   "cell_type": "markdown",
   "metadata": {},
   "source": [
    "#### 5. What's the Language Model;"
   ]
  },
  {
   "cell_type": "markdown",
   "metadata": {},
   "source": [
    "Ans:language-model = Pr(sentence)"
   ]
  },
  {
   "cell_type": "markdown",
   "metadata": {},
   "source": [
    "#### 6. Can you came up with some sceneraies at which we could use Language Model?\n"
   ]
  },
  {
   "cell_type": "markdown",
   "metadata": {},
   "source": [
    "Ans:1、评估一个句子是否合理；"
   ]
  },
  {
   "cell_type": "markdown",
   "metadata": {},
   "source": [
    "#### 7. What's the 1-gram language model;"
   ]
  },
  {
   "cell_type": "markdown",
   "metadata": {},
   "source": [
    "Ans:P(w1...wn)=P(w1)*p(w2)*p(w3)***p(wn) 假设w1，w2...wn，事件都是独立的,句子的概率为每个单词的概率相乘"
   ]
  },
  {
   "cell_type": "markdown",
   "metadata": {},
   "source": [
    "#### 8. What's the disadvantages and advantages of 1-gram language model;"
   ]
  },
  {
   "cell_type": "markdown",
   "metadata": {},
   "source": [
    "Ans:优点：事件之间相互独立，比较容易计算概率。缺点：未考虑句子单词之间的相互依赖关系，计算结果有误差"
   ]
  },
  {
   "cell_type": "markdown",
   "metadata": {},
   "source": [
    "#### 9. What't the 2-gram models;"
   ]
  },
  {
   "cell_type": "markdown",
   "metadata": {},
   "source": [
    "Ans:P(w1，w2,...,wn)=P(w1 | w2) * p(w2 | w3) * p(w3 | w4) *** p(wn) 两个事件中，只有相邻的两个事件有关系。如在句子中,句子的概率为相邻两个单词的有关系"
   ]
  },
  {
   "cell_type": "markdown",
   "metadata": {},
   "source": [
    "## 编程实践部分"
   ]
  },
  {
   "cell_type": "markdown",
   "metadata": {},
   "source": [
    "#### 1. 设计你自己的句子生成器"
   ]
  },
  {
   "cell_type": "markdown",
   "metadata": {},
   "source": [
    "如何生成句子是一个很经典的问题，从1940s开始，图灵提出机器智能的时候，就使用的是人类能不能流畅和计算机进行对话。和计算机对话的一个前提是，计算机能够生成语言。\n",
    "\n",
    "计算机如何能生成语言是一个经典但是又很复杂的问题。 我们课程上为大家介绍的是一种基于规则（Rule Based）的生成方法。该方法虽然提出的时间早，但是现在依然在很多地方能够大显身手。值得说明的是，现在很多很实用的算法，都是很久之前提出的，例如，二分查找提出与1940s, Dijstra算法提出于1960s 等等。"
   ]
  },
  {
   "cell_type": "markdown",
   "metadata": {},
   "source": [
    "在著名的电视剧，电影《西部世界》中，这些机器人们语言生成的方法就是使用的SyntaxTree生成语言的方法。\n",
    "\n",
    "> \n",
    ">\n",
    "\n",
    "![WstWorld](https://timgsa.baidu.com/timg?image&quality=80&size=b9999_10000&sec=1591874519607&di=bdfbf39f8e79a36f840936002404d5fb&imgtype=0&src=http%3A%2F%2Fwestworldwatchers.com%2Fwp-content%2Fuploads%2F2018%2F03%2FDolores-and-Teddy-Westworld-1.jpg)\n",
    "\n",
    "> \n",
    ">"
   ]
  },
  {
   "cell_type": "markdown",
   "metadata": {},
   "source": [
    "在这一部分，需要各位同学首先定义自己的语言。 大家可以先想一个应用场景，然后在这个场景下，定义语法。例如：\n",
    "\n",
    "在西部世界里，一个”人类“的语言可以定义为：\n",
    "``` \n",
    "human = \"\"\"\n",
    "human = 自己 寻找 活动\n",
    "自己 = 我 | 俺 | 我们 \n",
    "寻找 = 看看 | 找找 | 想找点\n",
    "活动 = 乐子 | 玩的\n",
    "\"\"\"\n",
    "```\n",
    "\n",
    "一个“接待员”的语言可以定义为\n",
    "```\n",
    "host = \"\"\"\n",
    "host = 寒暄 报数 询问 业务相关 结尾 \n",
    "报数 = 我是 数字 号 ,\n",
    "数字 = 单个数字 | 数字 单个数字 \n",
    "单个数字 = 1 | 2 | 3 | 4 | 5 | 6 | 7 | 8 | 9 \n",
    "寒暄 = 称谓 打招呼 | 打招呼\n",
    "称谓 = 人称 ,\n",
    "人称 = 先生 | 女士 | 小朋友\n",
    "打招呼 = 你好 | 您好 \n",
    "询问 = 请问你要 | 您需要\n",
    "业务相关 = 玩玩 具体业务\n",
    "玩玩 = 耍一耍 | 玩一玩\n",
    "具体业务 = 喝酒 | 打牌 | 打猎 | 赌博\n",
    "结尾 = 吗？\"\"\"\n",
    "\n",
    "```\n",
    "\n",
    "\n"
   ]
  },
  {
   "cell_type": "markdown",
   "metadata": {},
   "source": [
    "请定义你自己的语法: "
   ]
  },
  {
   "cell_type": "markdown",
   "metadata": {},
   "source": [
    "第一个语法："
   ]
  },
  {
   "cell_type": "code",
   "execution_count": 97,
   "metadata": {},
   "outputs": [
    {
     "name": "stdout",
     "output_type": "stream",
     "text": [
      "积分兑换，很遗憾没有获得电影票2张！\n"
     ]
    }
   ],
   "source": [
    "lottery_grammar = '''\n",
    "抽奖机 => 类型  动作 ， 修饰词 动词 奖品 ！\n",
    "类型 => 余额 | 积分 | 现金 \n",
    "动作 => 抽奖 | 兑换 \n",
    "修饰词 => 恭喜您 | 很遗憾 \n",
    "动词 => 获得 | 没有获得 \n",
    "奖品 => 电影票2张 | 苹果手机一部 | 300元现金券 | 10元充值劵 | KFC双人霸王餐 \n",
    "'''\n",
    "print(generate_by_str(lottery_grammar,\"抽奖机\",'=>'))"
   ]
  },
  {
   "cell_type": "markdown",
   "metadata": {},
   "source": [
    "> **评阅点**： 是否提出了和课程上区别较大的语法结构"
   ]
  },
  {
   "cell_type": "markdown",
   "metadata": {},
   "source": [
    "第二个语法："
   ]
  },
  {
   "cell_type": "code",
   "execution_count": 98,
   "metadata": {},
   "outputs": [
    {
     "name": "stdout",
     "output_type": "stream",
     "text": [
      "拼多多618节日，服饰产品银牌会员不可享5折！\n"
     ]
    }
   ],
   "source": [
    "grammar_str = '''\n",
    "营销方案 => 平台活动 ， 会员折扣 ！\n",
    "平台活动 => 平台 节日  \n",
    "会员折扣 => 产品 会员 享受 活动\n",
    "平台 => 淘宝 | 亚马逊 | 天猫 | 京东 | 拼多多 | 唯品会 | 当当 \n",
    "节日 => 618节日 | 双十一节日 | 双十二节日\n",
    "产品 => 全部产品 | 部分产品 | 酒水产品 | 服饰产品 | 化妆品产品 \n",
    "会员 => 金牌会员 | 银牌会员 \n",
    "享受 => 可享 | 不可享\n",
    "活动 => 买一送一 | 5折 | 满300减100 | 全场88折扣 \n",
    "'''\n",
    "print(generate_by_str(grammar_str,\"营销方案\",'=>'))"
   ]
  },
  {
   "cell_type": "markdown",
   "metadata": {},
   "source": [
    "> **评阅点**：是否和上一个语法区别比较大"
   ]
  },
  {
   "cell_type": "markdown",
   "metadata": {},
   "source": [
    "TODO: 然后，使用自己之前定义的generate函数，使用此函数生成句子。"
   ]
  },
  {
   "cell_type": "code",
   "execution_count": 104,
   "metadata": {},
   "outputs": [
    {
     "data": {
      "text/plain": [
       "'京东双十二节日，服饰产品金牌会员可享满300减100！'"
      ]
     },
     "execution_count": 104,
     "metadata": {},
     "output_type": "execute_result"
    }
   ],
   "source": [
    "def get_grammer(grammar_str, line_split=\"\\n\", index_split=\"=>\", or_split = \"|\"):\n",
    "    grammar = dict()\n",
    "    for line in grammar_str.split(line_split):\n",
    "        if not line:continue\n",
    "        expr,formula = line.split(index_split)\n",
    "        formulas = formula.split(or_split)\n",
    "        formulas = [word.split() for word in formulas]\n",
    "        grammar[expr.strip()] = formulas\n",
    "    return grammar\n",
    "\n",
    "def generate_grammer(grammar: dict, target: str):\n",
    "    if target not in grammar: return target \n",
    "    expr = random.choice(grammar[target])  \n",
    "    return ''.join(generate_by_grammar(grammar, t) for t in expr)\n",
    "\n",
    "\n",
    "\n",
    "def my_generate_grammerstr(grammar_str,target, line_split=\"\\n\", index_split=\"=>\", or_split = \"|\"):\n",
    "    grammar = get_grammer(grammar_str,line_split,index_split,or_split)\n",
    "    return generate_grammer(grammar,target)\n",
    "    \n",
    "my_generate_grammerstr(grammar_str,\"营销方案\")"
   ]
  },
  {
   "cell_type": "markdown",
   "metadata": {},
   "source": [
    "TODO: 然后，定义一个函数，generate_n，将generate扩展，使其能够生成n个句子:"
   ]
  },
  {
   "cell_type": "code",
   "execution_count": 105,
   "metadata": {},
   "outputs": [
    {
     "data": {
      "text/plain": [
       "['现金兑换，恭喜您没有获得电影票2张！',\n",
       " '余额抽奖，很遗憾没有获得KFC双人霸王餐！',\n",
       " '现金抽奖，恭喜您没有获得KFC双人霸王餐！',\n",
       " '现金兑换，恭喜您没有获得苹果手机一部！',\n",
       " '余额兑换，恭喜您获得300元现金券！',\n",
       " '余额兑换，恭喜您没有获得电影票2张！',\n",
       " '现金抽奖，恭喜您没有获得苹果手机一部！',\n",
       " '积分兑换，很遗憾获得KFC双人霸王餐！',\n",
       " '积分抽奖，很遗憾没有获得300元现金券！',\n",
       " '余额兑换，恭喜您获得10元充值劵！']"
      ]
     },
     "execution_count": 105,
     "metadata": {},
     "output_type": "execute_result"
    }
   ],
   "source": [
    "def generate_n(num:int,grammar_str,target,line_split=\"\\n\", index_split=\"=>\", or_split = \"|\"):\n",
    "    all_sentences = []\n",
    "    if num < 1 : return \"句子数量输入错误\"\n",
    "    for v in range(num):\n",
    "        all_sentences.append(my_generate_grammerstr(grammar_str,target))\n",
    "    return all_sentences     \n",
    "generate_n(10,lottery_grammar,\"抽奖机\")"
   ]
  },
  {
   "cell_type": "markdown",
   "metadata": {},
   "source": [
    "> **评阅点**; 运行代码，观察是否能够生成多个句子"
   ]
  },
  {
   "cell_type": "markdown",
   "metadata": {},
   "source": [
    "#### 2. 使用新数据源完成语言模型的训练"
   ]
  },
  {
   "cell_type": "markdown",
   "metadata": {},
   "source": [
    "按照我们上文中定义的`prob_2`函数，我们更换一个文本数据源，获得新的Language Model:\n",
    "\n",
    "1. 下载文本数据集（你可以在以下数据集中任选一个，也可以两个都使用）\n",
    "    + 可选数据集1，保险行业问询对话集： https://github.com/Computing-Intelligence/insuranceqa-corpus-zh/raw/release/corpus/pool/train.txt.gz\n",
    "    + 可选数据集2：豆瓣评论数据集：https://github.com/Computing-Intelligence/datasource/raw/master/movie_comments.csv\n",
    "2. 修改代码，获得新的**2-gram**语言模型\n",
    "    + 进行文本清洗，获得所有的纯文本\n",
    "    + 将这些文本进行切词\n",
    "    + 送入之前定义的语言模型中，判断文本的合理程度"
   ]
  },
  {
   "cell_type": "code",
   "execution_count": 8,
   "metadata": {},
   "outputs": [],
   "source": [
    "import jieba\n",
    "import re\n",
    "ARTILES = open('train.txt').read()"
   ]
  },
  {
   "cell_type": "code",
   "execution_count": 106,
   "metadata": {},
   "outputs": [],
   "source": [
    "def cut(string):\n",
    "    return list(jieba.cut(string))\n",
    "# 正则内容\n",
    "def regular(content):\n",
    "    return re.findall('\\w+', content)\n",
    "\n",
    "def clean_string(content):\n",
    "    content_lists = regular(str(content))\n",
    "    contents = \"\"\n",
    "    for word in content_lists:\n",
    "        if  word.isalpha():\n",
    "            contents = contents + ' ' + word\n",
    "        else:\n",
    "            contents =  contents + word       \n",
    "    return contents      \n",
    "\n",
    "def get_all_tokens(content):\n",
    "    tep_tokens = cut(content)\n",
    "    tokens = []\n",
    "    for v in tep_tokens:\n",
    "        tokens.append(v.lower().strip())\n",
    "    return tokens\n",
    "\n",
    "def get_token_2_gram(articles):\n",
    "    all_token = get_all_tokens(clean_string(artiles))\n",
    "    token_2_gram = [''.join(all_token[i:i+2]) for i in range(len(all_token[:-1]))]\n",
    "    return token_2_gram\n"
   ]
  },
  {
   "cell_type": "code",
   "execution_count": 26,
   "metadata": {},
   "outputs": [
    {
     "name": "stderr",
     "output_type": "stream",
     "text": [
      "IOPub data rate exceeded.\n",
      "The notebook server will temporarily stop sending output\n",
      "to the client in order to avoid crashing it.\n",
      "To change this limit, set the config variable\n",
      "`--NotebookApp.iopub_data_rate_limit`.\n",
      "\n",
      "Current values:\n",
      "NotebookApp.iopub_data_rate_limit=1000000.0 (bytes/sec)\n",
      "NotebookApp.rate_limit_window=3.0 (secs)\n",
      "\n"
     ]
    },
    {
     "data": {
      "text/plain": [
       "[('的', 703716),\n",
       " ('n', 382020),\n",
       " ('在', 263597),\n",
       " ('月', 189330),\n",
       " ('日', 166300),\n",
       " ('新华社', 142462),\n",
       " ('和', 134061),\n",
       " ('年', 123106),\n",
       " ('了', 121938),\n",
       " ('是', 100909)]"
      ]
     },
     "execution_count": 26,
     "metadata": {},
     "output_type": "execute_result"
    },
    {
     "data": {
      "image/png": "[encoded data removed]",
      "text/plain": [
       "<Figure size 432x288 with 1 Axes>"
      ]
     },
     "metadata": {
      "needs_background": "light"
     },
     "output_type": "display_data"
    }
   ],
   "source": [
    "\n",
    "TOKEN_2_GRAM = get_token_2_gram(ARTICLES)\n",
    "token_plot(TOKEN_2_GRAM,num=10)"
   ]
  },
  {
   "cell_type": "markdown",
   "metadata": {},
   "source": [
    "> **评阅点** 1. 是否使用了新的数据集； 2. csv(txt)数据是否正确解析"
   ]
  },
  {
   "cell_type": "markdown",
   "metadata": {},
   "source": [
    "#### 3. 获得最优质的的语言"
   ]
  },
  {
   "cell_type": "markdown",
   "metadata": {},
   "source": [
    "当我们能够生成随机的语言并且能判断之后，我们就可以生成更加合理的语言了。请定义 generate_best 函数，该函数输入一个语法 + 语言模型，能够生成**n**个句子，并能选择一个最合理的句子: \n",
    "\n"
   ]
  },
  {
   "cell_type": "markdown",
   "metadata": {},
   "source": [
    "提示，要实现这个函数，你需要Python的sorted函数"
   ]
  },
  {
   "cell_type": "code",
   "execution_count": 204,
   "metadata": {},
   "outputs": [
    {
     "data": {
      "text/plain": [
       "[1, 2, 3, 5]"
      ]
     },
     "execution_count": 204,
     "metadata": {},
     "output_type": "execute_result"
    }
   ],
   "source": [
    "sorted([1, 3, 5, 2])"
   ]
  },
  {
   "cell_type": "markdown",
   "metadata": {},
   "source": [
    "这个函数接受一个参数key，这个参数接受一个函数作为输入，例如"
   ]
  },
  {
   "cell_type": "code",
   "execution_count": 15,
   "metadata": {},
   "outputs": [
    {
     "data": {
      "text/plain": [
       "[(1, 4), (2, 5), (4, 4), (5, 0)]"
      ]
     },
     "execution_count": 15,
     "metadata": {},
     "output_type": "execute_result"
    }
   ],
   "source": [
    "sorted([(2, 5), (1, 4), (5, 0), (4, 4)], key=lambda x: x[0])"
   ]
  },
  {
   "cell_type": "markdown",
   "metadata": {},
   "source": [
    "能够让list按照第0个元素进行排序."
   ]
  },
  {
   "cell_type": "code",
   "execution_count": 16,
   "metadata": {},
   "outputs": [
    {
     "data": {
      "text/plain": [
       "[(5, 0), (1, 4), (4, 4), (2, 5)]"
      ]
     },
     "execution_count": 16,
     "metadata": {},
     "output_type": "execute_result"
    }
   ],
   "source": [
    "sorted([(2, 5), (1, 4), (5, 0), (4, 4)], key=lambda x: x[1])"
   ]
  },
  {
   "cell_type": "markdown",
   "metadata": {},
   "source": [
    "能够让list按照第1个元素进行排序."
   ]
  },
  {
   "cell_type": "code",
   "execution_count": 17,
   "metadata": {},
   "outputs": [
    {
     "data": {
      "text/plain": [
       "[(2, 5), (1, 4), (4, 4), (5, 0)]"
      ]
     },
     "execution_count": 17,
     "metadata": {},
     "output_type": "execute_result"
    }
   ],
   "source": [
    "sorted([(2, 5), (1, 4), (5, 0), (4, 4)], key=lambda x: x[1], reverse=True)"
   ]
  },
  {
   "cell_type": "markdown",
   "metadata": {},
   "source": [
    "能够让list按照第1个元素进行排序, 但是是递减的顺序。"
   ]
  },
  {
   "cell_type": "code",
   "execution_count": 107,
   "metadata": {},
   "outputs": [
    {
     "data": {
      "text/plain": [
       "0.00494860698289421"
      ]
     },
     "execution_count": 107,
     "metadata": {},
     "output_type": "execute_result"
    }
   ],
   "source": [
    "# 一个单词的概率\n",
    "def prob_1(word,word_counts,len_token):\n",
    "    if word in word_counts:\n",
    "        return word_counts[word] / len_token\n",
    "    else: \n",
    "        return 1 / len_token\n",
    "    \n",
    "prob_1(\"保险\",Counter(TOKEN_2_GRAM),len(TOKEN_2_GRAM))"
   ]
  },
  {
   "cell_type": "code",
   "execution_count": 108,
   "metadata": {},
   "outputs": [
    {
     "data": {
      "text/plain": [
       "0.2802547770700637"
      ]
     },
     "execution_count": 108,
     "metadata": {},
     "output_type": "execute_result"
    }
   ],
   "source": [
    "# 两个单词相关\n",
    "def prob_2(word1, word2, word_counts,len_token):\n",
    "    combine = word1 + word2\n",
    "    if combine in word_counts:\n",
    "        return word_counts[combine] / word_counts[word2]\n",
    "    else: \n",
    "        return 1 / len_token\n",
    "prob_2(\"家庭\",'保险',Counter(TOKEN_2_GRAM),len(TOKEN_2_GRAM))    "
   ]
  },
  {
   "cell_type": "markdown",
   "metadata": {},
   "source": [
    ">"
   ]
  },
  {
   "cell_type": "code",
   "execution_count": 109,
   "metadata": {},
   "outputs": [
    {
     "data": {
      "text/plain": [
       "0.0005803656564627605"
      ]
     },
     "execution_count": 109,
     "metadata": {},
     "output_type": "execute_result"
    }
   ],
   "source": [
    "  \n",
    "def _2_gram(sentence,token_gram):\n",
    "    word_counts = Counter(token_gram)\n",
    "    len_token = len(token_gram)\n",
    "    words = cut(sentence)\n",
    "    prob = 1\n",
    "    for i in range(len(words)-1):\n",
    "        word, next_word = words[i], words[i+1]\n",
    "        \n",
    "        prob *= prob_2(word, next_word,word_counts,len_token)\n",
    "        \n",
    "    prob *= prob_1(words[-1],word_counts,len_token)\n",
    "    return prob\n",
    "\n",
    "_2_gram('家庭保险涵盖什么',TOKEN_2_GRAM)"
   ]
  },
  {
   "cell_type": "code",
   "execution_count": 110,
   "metadata": {},
   "outputs": [
    {
     "data": {
      "text/plain": [
       "('余额抽奖，恭喜您获得苹果手机一部！', 4.606181640705543e-50)"
      ]
     },
     "execution_count": 110,
     "metadata": {},
     "output_type": "execute_result"
    }
   ],
   "source": [
    "def generate_best(sentences,token_gram):\n",
    "    all_sentences = []\n",
    "    for sentence in sentences:\n",
    "        prob = _2_gram(sentence,token_gram)\n",
    "        all_sentences.append((sentence, prob))\n",
    "    all_sentences = sorted(all_sentences, key=lambda x: x[1],reverse=True)\n",
    "    return all_sentences[0]\n",
    "\n",
    "generate_best(generate_n(10,lottery_grammar,\"抽奖机\"),get_token_2_gram(ARTICLES))"
   ]
  },
  {
   "cell_type": "markdown",
   "metadata": {},
   "source": [
    "好了，现在我们实现了自己的第一个AI模型，这个模型能够生成比较接近于人类的语言。"
   ]
  },
  {
   "cell_type": "markdown",
   "metadata": {},
   "source": [
    "> **评阅点**： 是否使用 lambda 语法进行排序"
   ]
  },
  {
   "cell_type": "markdown",
   "metadata": {},
   "source": [
    "Q: 这个模型有什么问题？ 你准备如何提升？ "
   ]
  },
  {
   "cell_type": "markdown",
   "metadata": {},
   "source": [
    "Ans:\"余额抽奖，恭喜您没有机会KFC双人霸王餐！\" 当前案例是，2-gram无法将恭喜您和没有机会的概率联系在一起，会出现错误的情况，提升方案，在系统算力允许的范围内，适当增大N-gram中 N的值"
   ]
  },
  {
   "cell_type": "markdown",
   "metadata": {},
   "source": [
    ">**评阅点**: 是否提出了比较实际的问题，例如OOV问题，例如数据量，例如变成 3-gram问题。"
   ]
  },
  {
   "cell_type": "markdown",
   "metadata": {},
   "source": [
    "##### 以下内容为可选部分，对于绝大多数同学，能完成以上的项目已经很优秀了，下边的内容如果你还有精力可以试试，但不是必须的。"
   ]
  },
  {
   "cell_type": "markdown",
   "metadata": {},
   "source": [
    "#### 4. (Optional) 完成基于Pattern Match的语句问答\n",
    "> 我们的GitHub仓库中，有一个assignment-01-optional-pattern-match，这个难度较大，感兴趣的同学可以挑战一下。"
   ]
  },
  {
   "cell_type": "markdown",
   "metadata": {},
   "source": [
    "\n",
    "#### 5. (Optional) 完成阿兰图灵机器智能原始论文的阅读\n",
    "1. 请阅读阿兰图灵关于机器智能的原始论文：https://github.com/Computing-Intelligence/References/blob/master/AI%20%26%20Machine%20Learning/Computer%20Machinery%20and%20Intelligence.pdf \n",
    "2. 并按照GitHub仓库中的论文阅读模板，填写完毕后发送给我: minchiuan@zju.edu.cn 谢谢"
   ]
  },
  {
   "cell_type": "markdown",
   "metadata": {},
   "source": [
    "> "
   ]
  },
  {
   "cell_type": "markdown",
   "metadata": {},
   "source": [
    "各位同学，我们已经完成了自己的第一个AI模型，大家对人工智能可能已经有了一些感觉，人工智能的核心就是，我们如何设计一个模型、程序，在外部的输入变化的时候，我们的程序不变，依然能够解决问题。人工智能是一个很大的领域，目前大家所熟知的深度学习只是其中一小部分，之后也肯定会有更多的方法提出来，但是大家知道人工智能的目标，就知道了之后进步的方向。"
   ]
  },
  {
   "cell_type": "markdown",
   "metadata": {},
   "source": [
    "然后，希望大家对AI不要有恐惧感，这个并不难，大家加油！"
   ]
  },
  {
   "cell_type": "markdown",
   "metadata": {},
   "source": [
    ">"
   ]
  },
  {
   "cell_type": "markdown",
   "metadata": {},
   "source": [
    "![](https://timgsa.baidu.com/timg?image&quality=80&size=b9999_10000&sec=1561828422005&di=48d19c16afb6acc9180183a6116088ac&imgtype=0&src=http%3A%2F%2Fb-ssl.duitang.com%2Fuploads%2Fitem%2F201807%2F28%2F20180728150843_BECNF.thumb.224_0.jpeg)"
   ]
  }
 ],
 "metadata": {
  "kernelspec": {
   "display_name": "Python 3",
   "language": "python",
   "name": "python3"
  },
  "language_info": {
   "codemirror_mode": {
    "name": "ipython",
    "version": 3
   },
   "file_extension": ".py",
   "mimetype": "text/x-python",
   "name": "python",
   "nbconvert_exporter": "python",
   "pygments_lexer": "ipython3",
   "version": "3.6.5"
  }
 },
 "nbformat": 4,
 "nbformat_minor": 4
}
