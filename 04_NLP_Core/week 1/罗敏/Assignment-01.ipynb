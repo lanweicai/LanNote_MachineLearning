{
 "cells": [
  {
   "cell_type": "markdown",
   "metadata": {},
   "source": [
    "## Lesson-01 Assignment"
   ]
  },
  {
   "cell_type": "markdown",
   "metadata": {},
   "source": [
    "#### 今天是2020年6月11日，今天世界上又多了一名AI工程师 :) "
   ]
  },
  {
   "cell_type": "markdown",
   "metadata": {},
   "source": [
    "`各位同学大家好，欢迎各位开始学习我们的人工智能课程。这门课程假设大家不具备机器学习和人工智能的知识，但是希望大家具备初级的Python编程能力。根据往期同学的实际反馈，我们课程的完结之后 能力能够超过80%的计算机人工智能/深度学习方向的硕士生的能力。`"
   ]
  },
  {
   "cell_type": "markdown",
   "metadata": {},
   "source": [
    "## 本次作业的内容"
   ]
  },
  {
   "cell_type": "markdown",
   "metadata": {},
   "source": [
    "#### 1. 复现课堂代码\n",
    "\n",
    "在本部分，你需要参照我们给大家的GitHub地址里边的课堂代码，结合课堂内容，复现内容。"
   ]
  },
  {
   "cell_type": "markdown",
   "metadata": {},
   "source": [
    "#### 2. 作业截止时间\n",
    "此次作业截止时间为 2020.6.18日"
   ]
  },
  {
   "cell_type": "markdown",
   "metadata": {},
   "source": [
    "#### 3. 完成以下问答和编程练习"
   ]
  },
  {
   "cell_type": "markdown",
   "metadata": {},
   "source": [
    ">"
   ]
  },
  {
   "cell_type": "markdown",
   "metadata": {},
   "source": [
    "## 基础理论部分"
   ]
  },
  {
   "cell_type": "markdown",
   "metadata": {},
   "source": [
    "> **评阅点**：每道题是否回答完整"
   ]
  },
  {
   "cell_type": "markdown",
   "metadata": {},
   "source": [
    "#### 0. Can you come up out 3 sceneraies which use AI methods? "
   ]
  },
  {
   "cell_type": "markdown",
   "metadata": {},
   "source": [
    "Ans: {Machine translation;Question answering;Text categorization;Information extration;Natural language generation;Automatic summarization}"
   ]
  },
  {
   "cell_type": "markdown",
   "metadata": {},
   "source": [
    "#### 1. How do we use Github; Why do we use Jupyter and Pycharm;"
   ]
  },
  {
   "cell_type": "markdown",
   "metadata": {},
   "source": [
    "Ans: {1)Github is an open source distributed version management system,you can record multiple versions, control version fallback and forward on the base of history, you can also share code from multi terminals and realize automatic code merging.\n",
    "2)It's more convenient for you to code,edit and debug code. }"
   ]
  },
  {
   "cell_type": "markdown",
   "metadata": {},
   "source": [
    "#### 2. What's the Probability Model?"
   ]
  },
  {
   "cell_type": "markdown",
   "metadata": {},
   "source": [
    "Ans:A probability model in which each event depends upon the previous event."
   ]
  },
  {
   "cell_type": "markdown",
   "metadata": {},
   "source": [
    "#### 3. Can you came up with some sceneraies at which we could use Probability Model?"
   ]
  },
  {
   "cell_type": "markdown",
   "metadata": {},
   "source": [
    "Ans:Winning lottery,quality inspection,Bernoulli test."
   ]
  },
  {
   "cell_type": "markdown",
   "metadata": {},
   "source": [
    "#### 4. Why do we use probability and what's the difficult points for programming based on parsing and pattern match?"
   ]
  },
  {
   "cell_type": "markdown",
   "metadata": {},
   "source": [
    "Ans:\n",
    "\n",
    "1)Some processes can not be derived by theoretical analysis,but we can obtain the function relationship among variables by testing data and mathematical statistics.\n",
    "\n",
    "2)Text is logic,unstructured and diversified."
   ]
  },
  {
   "cell_type": "markdown",
   "metadata": {},
   "source": [
    "#### 5. What's the Language Model;"
   ]
  },
  {
   "cell_type": "markdown",
   "metadata": {},
   "source": [
    "Ans:Languge model is mainly used to measure whether statements are resonable or not."
   ]
  },
  {
   "cell_type": "markdown",
   "metadata": {},
   "source": [
    "#### 6. Can you came up with some sceneraies at which we could use Language Model?\n"
   ]
  },
  {
   "cell_type": "markdown",
   "metadata": {},
   "source": [
    "Ans:Question answering, sentence generation"
   ]
  },
  {
   "cell_type": "markdown",
   "metadata": {},
   "source": [
    "#### 7. What's the 1-gram language model;"
   ]
  },
  {
   "cell_type": "markdown",
   "metadata": {},
   "source": [
    "Ans:\n",
    "\n",
    "N=total number of tokens\n",
    "\n",
    "$ P(wi)=C(w_i)/N $\n",
    "\n",
    "$ one-gram = Pr(w1 w2 .. wn) = Pr(w1)Pr(w_2).. Pr( w_{n-1})Pr(w_n) $"
   ]
  },
  {
   "cell_type": "markdown",
   "metadata": {},
   "source": [
    "#### 8. What's the disadvantages and advantages of 1-gram language model;"
   ]
  },
  {
   "cell_type": "markdown",
   "metadata": {},
   "source": [
    "Ans:\n",
    "\n",
    "Advantages: it's easy to calculate.\n",
    "\n",
    "Disadvantages: the relationship between the word and the background words around it is completely ignored."
   ]
  },
  {
   "cell_type": "markdown",
   "metadata": {},
   "source": [
    "#### 9. What't the 2-gram models;"
   ]
  },
  {
   "cell_type": "markdown",
   "metadata": {},
   "source": [
    "Ans:\n",
    "\n",
    "$ two-gram = Pr(w1*w2 .. wn) =Pr(w_1) Pr(w2 | w_1)Pr(w_3 | w_2).. Pr( w_{n} | w_{n-1})$\n",
    "\n",
    "$ two-gram = Pr(w1*w2 .. wn) =Pr(w_1) \\prod_i^{n-1} \\frac{count(w_{i}w_{i+1})}{count(w_{i})}$"
   ]
  },
  {
   "cell_type": "markdown",
   "metadata": {},
   "source": [
    "## 编程实践部分"
   ]
  },
  {
   "cell_type": "markdown",
   "metadata": {},
   "source": [
    "#### 1. 设计你自己的句子生成器"
   ]
  },
  {
   "cell_type": "markdown",
   "metadata": {},
   "source": [
    "如何生成句子是一个很经典的问题，从1940s开始，图灵提出机器智能的时候，就使用的是人类能不能流畅和计算机进行对话。和计算机对话的一个前提是，计算机能够生成语言。\n",
    "\n",
    "计算机如何能生成语言是一个经典但是又很复杂的问题。 我们课程上为大家介绍的是一种基于规则（Rule Based）的生成方法。该方法虽然提出的时间早，但是现在依然在很多地方能够大显身手。值得说明的是，现在很多很实用的算法，都是很久之前提出的，例如，二分查找提出与1940s, Dijstra算法提出于1960s 等等。"
   ]
  },
  {
   "cell_type": "markdown",
   "metadata": {},
   "source": [
    "在著名的电视剧，电影《西部世界》中，这些机器人们语言生成的方法就是使用的SyntaxTree生成语言的方法。\n",
    "\n",
    "> \n",
    ">\n",
    "\n",
    "![WstWorld](https://timgsa.baidu.com/timg?image&quality=80&size=b9999_10000&sec=1591874519607&di=bdfbf39f8e79a36f840936002404d5fb&imgtype=0&src=http%3A%2F%2Fwestworldwatchers.com%2Fwp-content%2Fuploads%2F2018%2F03%2FDolores-and-Teddy-Westworld-1.jpg)\n",
    "\n",
    "> \n",
    ">"
   ]
  },
  {
   "cell_type": "markdown",
   "metadata": {},
   "source": [
    "在这一部分，需要各位同学首先定义自己的语言。 大家可以先想一个应用场景，然后在这个场景下，定义语法。例如：\n",
    "\n",
    "在西部世界里，一个”人类“的语言可以定义为：\n",
    "``` \n",
    "human = \"\"\"\n",
    "human = 自己 寻找 活动\n",
    "自己 = 我 | 俺 | 我们 \n",
    "寻找 = 看看 | 找找 | 想找点\n",
    "活动 = 乐子 | 玩的\n",
    "\"\"\"\n",
    "```\n",
    "\n",
    "一个“接待员”的语言可以定义为\n",
    "```\n",
    "host = \"\"\"\n",
    "host = 寒暄 报数 询问 业务相关 结尾 \n",
    "报数 = 我是 数字 号 ,\n",
    "数字 = 单个数字 | 数字 单个数字 \n",
    "单个数字 = 1 | 2 | 3 | 4 | 5 | 6 | 7 | 8 | 9 \n",
    "寒暄 = 称谓 打招呼 | 打招呼\n",
    "称谓 = 人称 ,\n",
    "人称 = 先生 | 女士 | 小朋友\n",
    "打招呼 = 你好 | 您好 \n",
    "询问 = 请问你要 | 您需要\n",
    "业务相关 = 玩玩 具体业务\n",
    "玩玩 = 耍一耍 | 玩一玩\n",
    "具体业务 = 喝酒 | 打牌 | 打猎 | 赌博\n",
    "结尾 = 吗？\"\"\"\n",
    "\n",
    "```\n",
    "\n",
    "\n"
   ]
  },
  {
   "cell_type": "markdown",
   "metadata": {},
   "source": [
    "请定义你自己的语法: "
   ]
  },
  {
   "cell_type": "markdown",
   "metadata": {},
   "source": [
    "第一个语法："
   ]
  },
  {
   "cell_type": "code",
   "execution_count": 1,
   "metadata": {},
   "outputs": [],
   "source": [
    "game = \"\"\"\n",
    "战斗 = 施法 ， 结果 。\n",
    "施法 = 主语 动作 技能 \n",
    "结果 = 主语 获得 效果\n",
    "主语 = 张飞 | 关羽 | 赵云 | 典韦 | 许褚 | 刘备 | 黄忠 | 曹操 | 鲁班七号 | 貂蝉\n",
    "动作 = 施放 | 使用 | 召唤 \n",
    "技能 = 一骑当千 | 单刀赴会 | 青龙偃月 | 刀锋铁骑 | 黑暗潜能 | 画地为牢 | 守护机关 | 狂兽血性 | 龙鸣 | 惊雷之龙 | 破云之龙 | 天翔之龙\n",
    "获得 = 损失 | 收获\n",
    "效果 = 数值 状态\n",
    "数值 = 1 | 1000 | 5000 | 100 \n",
    "状态 = 法力 | 生命\n",
    "\"\"\""
   ]
  },
  {
   "cell_type": "markdown",
   "metadata": {},
   "source": [
    "> **评阅点**： 是否提出了和课程上区别较大的语法结构"
   ]
  },
  {
   "cell_type": "markdown",
   "metadata": {},
   "source": [
    "第二个语法："
   ]
  },
  {
   "cell_type": "code",
   "execution_count": 2,
   "metadata": {},
   "outputs": [],
   "source": [
    "AI = \"\"\"\n",
    "AI = 称谓 学习 内容 处理 方面 东西\n",
    "内容 = 自然语言处理 技术| 计算机视觉 技术| 商业智能 技术\n",
    "自然语言处理 = 问答系统 | 机器翻译 | 文本分类 | 信息抽取 | 自然语言生成 | 自动摘要\n",
    "计算机视觉 = 图像识别 | 图像检测 | 图像分割\n",
    "商业智能 = 数据挖掘 | 数据仓库 | 数据处理 | 数据展现\n",
    "称谓 = 你 | 我 |他\n",
    "处理 = 解决 | 评估\n",
    "方面 = 自然语言相关 | 图像视觉相关 | 商业智能相关\n",
    "东西 = 难点问题 | 应用风险\n",
    "\"\"\""
   ]
  },
  {
   "cell_type": "markdown",
   "metadata": {},
   "source": [
    "> **评阅点**：是否和上一个语法区别比较大"
   ]
  },
  {
   "cell_type": "markdown",
   "metadata": {},
   "source": [
    "TODO: 然后，使用自己之前定义的generate函数，使用此函数生成句子。"
   ]
  },
  {
   "cell_type": "markdown",
   "metadata": {},
   "source": [
    "TODO: 然后，定义一个函数，generate_n，将generate扩展，使其能够生成n个句子:"
   ]
  },
  {
   "cell_type": "code",
   "execution_count": 3,
   "metadata": {},
   "outputs": [],
   "source": [
    "def generate_grammer(grammer_source:str,split1='=',split2='|'):\n",
    "    grammer_dict={}\n",
    "    for line in grammer_source.split('\\n'):\n",
    "        if not line:continue\n",
    "        main,part=line.split(split1)\n",
    "        grammer_dict[main.strip()]=[w.split() for w in part.split(split2)]\n",
    "    return grammer_dict"
   ]
  },
  {
   "cell_type": "code",
   "execution_count": 4,
   "metadata": {},
   "outputs": [
    {
     "name": "stdout",
     "output_type": "stream",
     "text": [
      "{'战斗': [['施法', '，', '结果', '。']], '施法': [['主语', '动作', '技能']], '结果': [['主语', '获得', '效果']], '主语': [['张飞'], ['关羽'], ['赵云'], ['典韦'], ['许褚'], ['刘备'], ['黄忠'], ['曹操'], ['鲁班七号'], ['貂蝉']], '动作': [['施放'], ['使用'], ['召唤']], '技能': [['一骑当千'], ['单刀赴会'], ['青龙偃月'], ['刀锋铁骑'], ['黑暗潜能'], ['画地为牢'], ['守护机关'], ['狂兽血性'], ['龙鸣'], ['惊雷之龙'], ['破云之龙'], ['天翔之龙']], '获得': [['损失'], ['收获']], '效果': [['数值', '状态']], '数值': [['1'], ['1000'], ['5000'], ['100']], '状态': [['法力'], ['生命']]}\n"
     ]
    }
   ],
   "source": [
    "grammer_dict=generate_grammer(game)\n",
    "print(grammer_dict)"
   ]
  },
  {
   "cell_type": "code",
   "execution_count": 5,
   "metadata": {},
   "outputs": [],
   "source": [
    "import random\n",
    "def generate_sentence(grammer_dict:dict,target=None):\n",
    "    if not target in grammer_dict:\n",
    "        return target\n",
    "    item=random.choice(grammer_dict[target])\n",
    "    return ''.join(generate_sentence(grammer_dict,t) for t in item)"
   ]
  },
  {
   "cell_type": "code",
   "execution_count": 6,
   "metadata": {},
   "outputs": [
    {
     "name": "stdout",
     "output_type": "stream",
     "text": [
      "曹操使用一骑当千，刘备损失1000生命。\n"
     ]
    }
   ],
   "source": [
    "sentence=generate_sentence(grammer_dict,target='战斗')\n",
    "print(sentence)"
   ]
  },
  {
   "cell_type": "code",
   "execution_count": 7,
   "metadata": {},
   "outputs": [],
   "source": [
    "def generate_n(grammer_source:str,split1='=',split2='|',target=None,number=10):\n",
    "    grammer_dict=generate_grammer(grammer_source)\n",
    "    sentences=[generate_sentence(grammer_dict,target) for _ in range(number)]\n",
    "    return sentences"
   ]
  },
  {
   "cell_type": "code",
   "execution_count": 8,
   "metadata": {},
   "outputs": [
    {
     "name": "stdout",
     "output_type": "stream",
     "text": [
      "许褚召唤单刀赴会，曹操损失1000法力。\n",
      "黄忠召唤守护机关，黄忠收获100生命。\n",
      "黄忠使用一骑当千，黄忠损失1生命。\n",
      "刘备使用龙鸣，关羽收获5000法力。\n",
      "许褚召唤黑暗潜能，刘备损失1生命。\n",
      "貂蝉使用守护机关，典韦损失100生命。\n",
      "刘备召唤守护机关，刘备损失1生命。\n",
      "典韦使用惊雷之龙，赵云损失1000法力。\n",
      "赵云施放青龙偃月，关羽收获100法力。\n",
      "典韦使用狂兽血性，刘备损失100生命。\n"
     ]
    }
   ],
   "source": [
    "sentences=generate_n(grammer_source=game,split1='=',split2='|',target='战斗',number=10)\n",
    "for sentence in sentences:\n",
    "    print(sentence)"
   ]
  },
  {
   "cell_type": "markdown",
   "metadata": {},
   "source": [
    "> **评阅点**; 运行代码，观察是否能够生成多个句子"
   ]
  },
  {
   "cell_type": "markdown",
   "metadata": {},
   "source": [
    "#### 2. 使用新数据源完成语言模型的训练"
   ]
  },
  {
   "cell_type": "markdown",
   "metadata": {},
   "source": [
    "按照我们上文中定义的`prob_2`函数，我们更换一个文本数据源，获得新的Language Model:\n",
    "\n",
    "1. 下载文本数据集（你可以在以下数据集中任选一个，也可以两个都使用）\n",
    "    + 可选数据集1，保险行业问询对话集： https://github.com/Computing-Intelligence/insuranceqa-corpus-zh/raw/release/corpus/pool/train.txt.gz\n",
    "    + 可选数据集2：豆瓣评论数据集：https://github.com/Computing-Intelligence/datasource/raw/master/movie_comments.csv\n",
    "2. 修改代码，获得新的**2-gram**语言模型\n",
    "    + 进行文本清洗，获得所有的纯文本\n",
    "    + 将这些文本进行切词\n",
    "    + 送入之前定义的语言模型中，判断文本的合理程度"
   ]
  },
  {
   "cell_type": "code",
   "execution_count": 9,
   "metadata": {},
   "outputs": [],
   "source": [
    "import re\n",
    "import jieba\n",
    "from collections import Counter\n",
    "from functools import reduce\n",
    "from operator import mul\n",
    "import gzip"
   ]
  },
  {
   "cell_type": "code",
   "execution_count": 10,
   "metadata": {},
   "outputs": [],
   "source": [
    "def get_gram_dict(filename,file_type='gz'):\n",
    "    if file_type=='gz':\n",
    "        with gzip.open(filename,'rb') as f:\n",
    "            all_content=f.read().decode('utf-8')\n",
    "    else:\n",
    "        with open(file=filename,mode='r') as f:\n",
    "            all_content=f.read()\n",
    "    all_words=re.sub(r'_','',''.join(re.findall(r'\\w+',all_content)))\n",
    "    all_split_words=list(jieba.cut(all_words))\n",
    "    total_number=len(all_split_words)\n",
    "    one_gram_dict={w:f for w,f in Counter(all_split_words).most_common()}\n",
    "    all_2_combined_words=[all_split_words[i]+all_split_words[i+1] for i in range(len(all_split_words)-1)]\n",
    "    two_gram_dict={w:f for w,f in Counter(all_2_combined_words).most_common()}\n",
    "    return one_gram_dict,two_gram_dict"
   ]
  },
  {
   "cell_type": "code",
   "execution_count": 11,
   "metadata": {},
   "outputs": [
    {
     "name": "stderr",
     "output_type": "stream",
     "text": [
      "Building prefix dict from the default dictionary ...\n",
      "Loading model from cache /tmp/jieba.cache\n",
      "Dumping model to file cache /tmp/jieba.cache\n",
      "Dump cache file failed.\n",
      "Traceback (most recent call last):\n",
      "  File \"/home/stu_18701958249/.local/lib/python3.7/site-packages/jieba/__init__.py\", line 154, in initialize\n",
      "    _replace_file(fpath, cache_file)\n",
      "PermissionError: [Errno 1] Operation not permitted: '/tmp/tmpbad31h66' -> '/tmp/jieba.cache'\n",
      "Loading model cost 0.884 seconds.\n",
      "Prefix dict has been built successfully.\n"
     ]
    },
    {
     "name": "stdout",
     "output_type": "stream",
     "text": [
      "保险 5013\n",
      "的 3220\n",
      "人寿保险 2962\n",
      "什么 2677\n",
      "吗 2479\n",
      "是 2347\n",
      "我 2054\n",
      "是否 1862\n",
      "可以 1704\n",
      "健康 1513\n",
      "*****************\n",
      "健康保险 1349\n",
      "什么是 1149\n",
      "保险是否 958\n",
      "我的 726\n",
      "残疾保险 659\n",
      "房主保险 603\n",
      "我可以 529\n",
      "保险吗 511\n",
      "是否覆盖 504\n",
      "家庭保险 440\n"
     ]
    }
   ],
   "source": [
    "filename='train.txt.gz'\n",
    "one_gram_dict,two_gram_dict=get_gram_dict(filename)\n",
    "oneword_frequency=sorted([(w,f) for w,f in one_gram_dict.items()],key=lambda x :x[1],reverse=True)\n",
    "twowords_frequency=sorted([(w,f) for w,f in two_gram_dict.items()],key=lambda x :x[1],reverse=True)\n",
    "for w,f in oneword_frequency[:10]:\n",
    "    print(w,f)\n",
    "print('*****************')\n",
    "for w,f in twowords_frequency[:10]:\n",
    "    print(w,f)"
   ]
  },
  {
   "cell_type": "code",
   "execution_count": 12,
   "metadata": {},
   "outputs": [],
   "source": [
    "def get_one_word_prob(one_gram_dict,word):\n",
    "    if word not in one_gram_dict:\n",
    "        return min([f for w,f in one_gram_dict.items()])/sum([f for w,f in one_gram_dict.items()])\n",
    "    else:\n",
    "        return one_gram_dict[word]/sum([f for w,f in one_gram_dict.items()])"
   ]
  },
  {
   "cell_type": "code",
   "execution_count": 13,
   "metadata": {},
   "outputs": [],
   "source": [
    "def get_presentword_from_previousword_prob(one_gram_dict,two_gram_dict,previousword,presentword):\n",
    "    combined_words=previousword+presentword\n",
    "    if combined_words not in two_gram_dict:\n",
    "        return 1/len(one_gram_dict)\n",
    "    else:\n",
    "        return two_gram_dict[combined_words]/one_gram_dict[previousword]"
   ]
  },
  {
   "cell_type": "code",
   "execution_count": 14,
   "metadata": {},
   "outputs": [],
   "source": [
    "def get_sentence_prob(one_gram_dict,two_gram_dict,sentence):\n",
    "    all_words=re.sub(r'_','',''.join(re.findall(r'\\w+',sentence)))\n",
    "    all_split_words=list(jieba.cut(all_words))\n",
    "    probs=[]\n",
    "    probs.append(get_one_word_prob(one_gram_dict,all_split_words[0]))\n",
    "    for i in range(0,len(all_split_words)-1):\n",
    "        prob=get_presentword_from_previousword_prob(one_gram_dict,two_gram_dict,all_split_words[i],all_split_words[i+1])\n",
    "        probs.append(prob)\n",
    "    return reduce(mul,probs)"
   ]
  },
  {
   "cell_type": "markdown",
   "metadata": {},
   "source": [
    "> **评阅点** 1. 是否使用了新的数据集； 2. csv(txt)数据是否正确解析"
   ]
  },
  {
   "cell_type": "markdown",
   "metadata": {},
   "source": [
    "#### 3. 获得最优质的的语言"
   ]
  },
  {
   "cell_type": "markdown",
   "metadata": {},
   "source": [
    "当我们能够生成随机的语言并且能判断之后，我们就可以生成更加合理的语言了。请定义 generate_best 函数，该函数输入一个语法 + 语言模型，能够生成**n**个句子，并能选择一个最合理的句子: \n",
    "\n"
   ]
  },
  {
   "cell_type": "markdown",
   "metadata": {},
   "source": [
    "提示，要实现这个函数，你需要Python的sorted函数"
   ]
  },
  {
   "cell_type": "code",
   "execution_count": 15,
   "metadata": {},
   "outputs": [
    {
     "data": {
      "text/plain": [
       "[1, 2, 3, 5]"
      ]
     },
     "execution_count": 15,
     "metadata": {},
     "output_type": "execute_result"
    }
   ],
   "source": [
    "sorted([1, 3, 5, 2])"
   ]
  },
  {
   "cell_type": "markdown",
   "metadata": {},
   "source": [
    "这个函数接受一个参数key，这个参数接受一个函数作为输入，例如"
   ]
  },
  {
   "cell_type": "code",
   "execution_count": 16,
   "metadata": {},
   "outputs": [
    {
     "data": {
      "text/plain": [
       "[(1, 4), (2, 5), (4, 4), (5, 0)]"
      ]
     },
     "execution_count": 16,
     "metadata": {},
     "output_type": "execute_result"
    }
   ],
   "source": [
    "sorted([(2, 5), (1, 4), (5, 0), (4, 4)], key=lambda x: x[0])"
   ]
  },
  {
   "cell_type": "markdown",
   "metadata": {},
   "source": [
    "能够让list按照第0个元素进行排序."
   ]
  },
  {
   "cell_type": "code",
   "execution_count": 17,
   "metadata": {},
   "outputs": [
    {
     "data": {
      "text/plain": [
       "[(5, 0), (1, 4), (4, 4), (2, 5)]"
      ]
     },
     "execution_count": 17,
     "metadata": {},
     "output_type": "execute_result"
    }
   ],
   "source": [
    "sorted([(2, 5), (1, 4), (5, 0), (4, 4)], key=lambda x: x[1])"
   ]
  },
  {
   "cell_type": "markdown",
   "metadata": {},
   "source": [
    "能够让list按照第1个元素进行排序."
   ]
  },
  {
   "cell_type": "code",
   "execution_count": 18,
   "metadata": {},
   "outputs": [
    {
     "data": {
      "text/plain": [
       "[(2, 5), (1, 4), (4, 4), (5, 0)]"
      ]
     },
     "execution_count": 18,
     "metadata": {},
     "output_type": "execute_result"
    }
   ],
   "source": [
    "sorted([(2, 5), (1, 4), (5, 0), (4, 4)], key=lambda x: x[1], reverse=True)"
   ]
  },
  {
   "cell_type": "markdown",
   "metadata": {},
   "source": [
    "能够让list按照第1个元素进行排序, 但是是递减的顺序。"
   ]
  },
  {
   "cell_type": "markdown",
   "metadata": {},
   "source": [
    ">"
   ]
  },
  {
   "cell_type": "code",
   "execution_count": 19,
   "metadata": {},
   "outputs": [],
   "source": [
    "def generate_best(one_gram_dict,two_gram_dict,grammer_source:str,split1='=',split2='|',target=None,number=10):\n",
    "    sentences=generate_n(grammer_source,split1,split2,target,number)\n",
    "    output={sentence:get_sentence_prob(one_gram_dict,two_gram_dict,sentence) for sentence in sentences}\n",
    "    output=sorted([(sentence,prob) for sentence,prob in output.items()],key=lambda x:x[1],reverse=True)\n",
    "    return output[0][0]"
   ]
  },
  {
   "cell_type": "code",
   "execution_count": 20,
   "metadata": {},
   "outputs": [
    {
     "name": "stdout",
     "output_type": "stream",
     "text": [
      "貂蝉召唤龙鸣，关羽损失5000法力。\n"
     ]
    }
   ],
   "source": [
    "best_sentence=generate_best(one_gram_dict,two_gram_dict,grammer_source=game,split1='=',split2='|',target='战斗',number=100)\n",
    "print(best_sentence)"
   ]
  },
  {
   "cell_type": "code",
   "execution_count": 21,
   "metadata": {},
   "outputs": [
    {
     "name": "stdout",
     "output_type": "stream",
     "text": [
      "我学习数据挖掘技术评估商业智能相关应用风险\n"
     ]
    }
   ],
   "source": [
    "best_sentence=generate_best(one_gram_dict,two_gram_dict,grammer_source=AI,split1='=',split2='|',target='AI',number=100)\n",
    "print(best_sentence)"
   ]
  },
  {
   "cell_type": "markdown",
   "metadata": {},
   "source": [
    "好了，现在我们实现了自己的第一个AI模型，这个模型能够生成比较接近于人类的语言。"
   ]
  },
  {
   "cell_type": "markdown",
   "metadata": {},
   "source": [
    "> **评阅点**： 是否使用 lambda 语法进行排序"
   ]
  },
  {
   "cell_type": "markdown",
   "metadata": {},
   "source": [
    "Q: 这个模型有什么问题？ 你准备如何提升？ "
   ]
  },
  {
   "cell_type": "markdown",
   "metadata": {},
   "source": [
    "Ans:\n",
    "1)理论上讲N-gram 中N越大，表示依赖的词越多，获得的信息量越多，对未来的预测就越准确，可以尝试采用3-gram模型，但是N也不可太大，太大容易导致稀疏问题。\n",
    "2)数据量不够的情况下，待评估句子会经常存在out of vocabulary问题，导致语句合理性判断失真"
   ]
  },
  {
   "cell_type": "markdown",
   "metadata": {},
   "source": [
    ">**评阅点**: 是否提出了比较实际的问题，例如OOV问题，例如数据量，例如变成 3-gram问题。"
   ]
  },
  {
   "cell_type": "markdown",
   "metadata": {},
   "source": [
    "##### 以下内容为可选部分，对于绝大多数同学，能完成以上的项目已经很优秀了，下边的内容如果你还有精力可以试试，但不是必须的。"
   ]
  },
  {
   "cell_type": "markdown",
   "metadata": {},
   "source": [
    "#### 4. (Optional) 完成基于Pattern Match的语句问答\n",
    "> 我们的GitHub仓库中，有一个assignment-01-optional-pattern-match，这个难度较大，感兴趣的同学可以挑战一下。"
   ]
  },
  {
   "cell_type": "markdown",
   "metadata": {},
   "source": [
    "\n",
    "#### 5. (Optional) 完成阿兰图灵机器智能原始论文的阅读\n",
    "1. 请阅读阿兰图灵关于机器智能的原始论文：https://github.com/Computing-Intelligence/References/blob/master/AI%20%26%20Machine%20Learning/Computer%20Machinery%20and%20Intelligence.pdf \n",
    "2. 并按照GitHub仓库中的论文阅读模板，填写完毕后发送给我: minchiuan@zju.edu.cn 谢谢"
   ]
  },
  {
   "cell_type": "markdown",
   "metadata": {},
   "source": [
    "> "
   ]
  },
  {
   "cell_type": "markdown",
   "metadata": {},
   "source": [
    "各位同学，我们已经完成了自己的第一个AI模型，大家对人工智能可能已经有了一些感觉，人工智能的核心就是，我们如何设计一个模型、程序，在外部的输入变化的时候，我们的程序不变，依然能够解决问题。人工智能是一个很大的领域，目前大家所熟知的深度学习只是其中一小部分，之后也肯定会有更多的方法提出来，但是大家知道人工智能的目标，就知道了之后进步的方向。"
   ]
  },
  {
   "cell_type": "markdown",
   "metadata": {},
   "source": [
    "然后，希望大家对AI不要有恐惧感，这个并不难，大家加油！"
   ]
  },
  {
   "cell_type": "markdown",
   "metadata": {},
   "source": [
    ">"
   ]
  },
  {
   "cell_type": "markdown",
   "metadata": {},
   "source": [
    "![](https://timgsa.baidu.com/timg?image&quality=80&size=b9999_10000&sec=1561828422005&di=48d19c16afb6acc9180183a6116088ac&imgtype=0&src=http%3A%2F%2Fb-ssl.duitang.com%2Fuploads%2Fitem%2F201807%2F28%2F20180728150843_BECNF.thumb.224_0.jpeg)"
   ]
  }
 ],
 "metadata": {
  "kernelspec": {
   "display_name": "Python 3",
   "language": "python",
   "name": "python3"
  },
  "language_info": {
   "codemirror_mode": {
    "name": "ipython",
    "version": 3
   },
   "file_extension": ".py",
   "mimetype": "text/x-python",
   "name": "python",
   "nbconvert_exporter": "python",
   "pygments_lexer": "ipython3",
   "version": "3.6.5"
  }
 },
 "nbformat": 4,
 "nbformat_minor": 2
}
