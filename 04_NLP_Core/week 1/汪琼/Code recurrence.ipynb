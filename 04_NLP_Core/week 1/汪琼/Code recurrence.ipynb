{
 "cells": [
  {
   "cell_type": "code",
   "execution_count": 23,
   "metadata": {},
   "outputs": [],
   "source": [
    "import random"
   ]
  },
  {
   "cell_type": "code",
   "execution_count": 24,
   "metadata": {},
   "outputs": [],
   "source": [
    "sentence = \"\"\"\n",
    "句子 = 主  谓  宾\n",
    "主语 = 你 | 我 | 他\n",
    "谓语 = 吃 | 喝\n",
    "宾语 = 青菜 | 黄瓜 | 西红柿 | 果汁\n",
    "\"\"\""
   ]
  },
  {
   "cell_type": "code",
   "execution_count": 25,
   "metadata": {},
   "outputs": [],
   "source": [
    "def sentence():\n",
    "    return 主语() + 谓语() + 宾语()\n",
    "\n",
    "def 主语():\n",
    "    return random.choice('你 | 我 | 他'.split('|'))\n",
    "\n",
    "def 谓语():\n",
    "    return random.choice('吃 | 喝'.split('|'))\n",
    "    \n",
    "def 宾语():\n",
    "    return random.choice('青菜 | 黄瓜 | 西红柿 | 果汁'.split('|'))"
   ]
  },
  {
   "cell_type": "code",
   "execution_count": 26,
   "metadata": {},
   "outputs": [
    {
     "name": "stdout",
     "output_type": "stream",
     "text": [
      "你 吃  西红柿 \n",
      " 他吃  西红柿 \n",
      "你  喝 西红柿 \n",
      "你  喝 黄瓜 \n",
      " 我 吃  西红柿 \n",
      "你  喝 果汁\n",
      " 他 喝 黄瓜 \n",
      " 我  喝 西红柿 \n",
      " 他 喝 黄瓜 \n",
      " 我  喝 黄瓜 \n"
     ]
    }
   ],
   "source": [
    "for _ in range(10):\n",
    "    print(sentence())"
   ]
  },
  {
   "cell_type": "code",
   "execution_count": 27,
   "metadata": {},
   "outputs": [],
   "source": [
    "two_numbers = \"\"\"\n",
    "numbers = num numbers | num\n",
    "num = 0 | 1 | 2 | 3 \n",
    "\"\"\""
   ]
  },
  {
   "cell_type": "code",
   "execution_count": 28,
   "metadata": {},
   "outputs": [],
   "source": [
    "# def numbers_with_bug():\n",
    "#     return random.choice([num() + numbers_with_bug(),num()])\n",
    "\n",
    "def num():\n",
    "    return random.choice('0 | 1 | 2 | 3'.split('|'))\n",
    "\n",
    "def numbers():\n",
    "    if random.random()<0.3:\n",
    "        return num()\n",
    "    else:\n",
    "        return num() + numbers()"
   ]
  },
  {
   "cell_type": "code",
   "execution_count": 29,
   "metadata": {},
   "outputs": [
    {
     "data": {
      "text/plain": [
       "' 3 1 0 '"
      ]
     },
     "execution_count": 29,
     "metadata": {},
     "output_type": "execute_result"
    }
   ],
   "source": [
    "numbers()"
   ]
  },
  {
   "cell_type": "code",
   "execution_count": 30,
   "metadata": {},
   "outputs": [
    {
     "name": "stdout",
     "output_type": "stream",
     "text": [
      " 1  1 0  1  3 1  3\n",
      " 1 0  2 0  1 0 \n",
      " 2 \n",
      " 30  1 0 0  2  2  3\n",
      " 1  3 2 \n",
      " 2 \n",
      " 1 \n",
      " 2 0  2  3 2 \n",
      " 2 0  1 \n",
      " 3 1  3 3\n"
     ]
    }
   ],
   "source": [
    "for _ in range(10):\n",
    "    print(numbers())"
   ]
  },
  {
   "cell_type": "code",
   "execution_count": 31,
   "metadata": {},
   "outputs": [],
   "source": [
    "numbers_ops = \"\"\"\n",
    "expression => expression op num_op | num_op\n",
    "num_op => nums op nums\n",
    "nums => num nums | num\n",
    "num => 0 | 1 | 2 | 3 | 4 | 5 | 6 | 7 | 8 | 9\n",
    "op => + | - | * | /\n",
    "\"\"\""
   ]
  },
  {
   "cell_type": "code",
   "execution_count": 32,
   "metadata": {},
   "outputs": [],
   "source": [
    "def generate_grammer(grammer_str:str, split='=>'):\n",
    "    grammar = {}\n",
    "\n",
    "    for line in grammer_str.split('\\n'):\n",
    "        if not line: continue\n",
    "\n",
    "        expr, formula = line.split(split)\n",
    "        formulas = formula.split('|')\n",
    "\n",
    "        formulas = [f.split() for f in formulas]\n",
    "\n",
    "        grammar[expr.strip()] = formulas\n",
    "\n",
    "    return grammar\n",
    "    "
   ]
  },
  {
   "cell_type": "code",
   "execution_count": 33,
   "metadata": {},
   "outputs": [],
   "source": [
    "def generate_by_grammer(grammar: dict, target=str):\n",
    "    if target not in grammar: return target \n",
    "    \n",
    "    expr = random.choice(grammar[target])\n",
    "    \n",
    "    return ''.join(generate_by_grammer(grammar, t) for t in expr)"
   ]
  },
  {
   "cell_type": "code",
   "execution_count": 34,
   "metadata": {},
   "outputs": [],
   "source": [
    "grammar=generate_grammer(numbers_ops)"
   ]
  },
  {
   "cell_type": "code",
   "execution_count": 35,
   "metadata": {},
   "outputs": [
    {
     "data": {
      "text/plain": [
       "'2*38/1/6158+8+3'"
      ]
     },
     "execution_count": 35,
     "metadata": {},
     "output_type": "execute_result"
    }
   ],
   "source": [
    "generate_by_grammer(grammar,target='expression')"
   ]
  },
  {
   "cell_type": "code",
   "execution_count": 36,
   "metadata": {},
   "outputs": [],
   "source": [
    "def generate_by_str(grammar_str,target,spliter='=>'):\n",
    "    return generate_by_grammer(grammar=generate_grammer(grammar_str,spliter),target=target)"
   ]
  },
  {
   "cell_type": "code",
   "execution_count": 37,
   "metadata": {},
   "outputs": [],
   "source": [
    "sentence = \"\"\"\n",
    "句子 => 主  谓  宾\n",
    "主 => 你 | 我 | 他\n",
    "谓 => 吃 | 喝\n",
    "宾 => 青菜 | 黄瓜 | 西红柿 | 果汁\n",
    "\"\"\""
   ]
  },
  {
   "cell_type": "code",
   "execution_count": 38,
   "metadata": {},
   "outputs": [
    {
     "data": {
      "text/plain": [
       "'822762-2+06/1377'"
      ]
     },
     "execution_count": 38,
     "metadata": {},
     "output_type": "execute_result"
    }
   ],
   "source": [
    "generate_by_str(numbers_ops,target='expression')"
   ]
  },
  {
   "cell_type": "code",
   "execution_count": 39,
   "metadata": {},
   "outputs": [
    {
     "name": "stdout",
     "output_type": "stream",
     "text": [
      "他吃青菜\n",
      "你吃青菜\n",
      "我吃青菜\n",
      "你吃青菜\n",
      "你吃西红柿\n",
      "我吃青菜\n",
      "我喝果汁\n",
      "你吃果汁\n",
      "我喝黄瓜\n",
      "你吃青菜\n"
     ]
    }
   ],
   "source": [
    "for _ in range(10):\n",
    "    print(generate_by_grammer(generate_grammer(sentence),target='句子'))"
   ]
  },
  {
   "cell_type": "code",
   "execution_count": 40,
   "metadata": {},
   "outputs": [],
   "source": [
    "human = \"\"\"\n",
    "human = 自己 寻找 活动\n",
    "自己 = 我 | 俺 | 我们 \n",
    "寻找 = 找找 | 想找点 \n",
    "活动 = 乐子 | 玩的\n",
    "\"\"\"\n",
    "假如既然 = \"\"\"\n",
    "句子 = if someone state , then do something\n",
    "if = 既然 | 如果 | 假设\n",
    "someone = one 和 someone | one\n",
    "one = 小红 | 小蓝 | 小绿 | 白白\n",
    "state = 饿了 | 醒了 | 醉了 | 癫狂了\n",
    "then = 那么 | 就 | 可以\n",
    "do = 去  \n",
    "something = 吃饭 | 玩耍 | 去浪 | 睡觉\n",
    "\"\"\"\n",
    "host = \"\"\"\n",
    "host = 寒暄 报数 询问 业务相关 结尾 \n",
    "报数 = 我是 数字 号 ,\n",
    "数字 = 单个数字 | 数字 单个数字 \n",
    "单个数字 = 1 | 2 | 3 | 4 | 5 | 6 | 7 | 8 | 9 \n",
    "寒暄 = 称谓 打招呼 | 打招呼\n",
    "称谓 = 人称 ,\n",
    "人称 = 先生 | 女士 | 小朋友\n",
    "打招呼 = 你好 | 您好 \n",
    "询问 = 请问你要 | 您需要\n",
    "业务相关 = 具体业务\n",
    "具体业务 = 喝酒 | 打牌 | 打猎 | 赌博\n",
    "结尾 = 吗？\n",
    "\"\"\""
   ]
  },
  {
   "cell_type": "code",
   "execution_count": 41,
   "metadata": {},
   "outputs": [
    {
     "name": "stdout",
     "output_type": "stream",
     "text": [
      "俺找找乐子\n",
      "俺找找乐子\n",
      "我想找点乐子\n",
      "我想找点乐子\n",
      "我们找找玩的\n",
      "俺找找玩的\n",
      "俺想找点玩的\n",
      "我们找找玩的\n",
      "我找找玩的\n",
      "我们想找点乐子\n",
      "既然小蓝和小红醉了,那么去睡觉\n",
      "如果小绿癫狂了,可以去吃饭\n",
      "如果小绿和白白癫狂了,那么去玩耍\n",
      "如果小绿醉了,就去去浪\n",
      "假设小红和小蓝和小蓝和小红和小绿醉了,就去吃饭\n",
      "假设小蓝癫狂了,就去吃饭\n",
      "假设小绿和小绿醒了,就去吃饭\n",
      "既然小蓝醉了,就去睡觉\n",
      "假设小蓝和白白和小蓝癫狂了,就去玩耍\n",
      "既然小蓝和小红醉了,就去玩耍\n",
      "您好我是492号,您需要喝酒吗？\n",
      "您好我是3号,您需要打牌吗？\n",
      "小朋友,您好我是973号,请问你要打牌吗？\n",
      "你好我是72号,请问你要赌博吗？\n",
      "你好我是27号,请问你要打牌吗？\n",
      "小朋友,你好我是379号,请问你要打牌吗？\n",
      "你好我是484号,您需要打牌吗？\n",
      "您好我是6号,请问你要喝酒吗？\n",
      "您好我是8号,您需要打牌吗？\n",
      "小朋友,你好我是7165252号,请问你要喝酒吗？\n"
     ]
    }
   ],
   "source": [
    "for _ in range(10):\n",
    "    print(generate_by_str(human,'human', '='))\n",
    "\n",
    "for _ in range(10):\n",
    "    print(generate_by_str(假如既然,'句子','='))\n",
    "\n",
    "for _ in range(10):\n",
    "    print(generate_by_str(host,'host','='))"
   ]
  },
  {
   "cell_type": "code",
   "execution_count": 42,
   "metadata": {},
   "outputs": [],
   "source": [
    "simple_programming=\"\"\"\n",
    "programming => assignment logic_programming\n",
    "assignment => assign change_line assignment | assign change_line\n",
    "logic_programming => if_stmt | assign | while_loop\n",
    "while_loop => while { cond } {change_line stmt change_line}\n",
    "if_stmt =>if { cond } {change_line stmt change_line} | if { cond } {change_line stmt change_line} else {change_line stmt change_line}\n",
    "change_line => /N\n",
    "cond => var op var\n",
    "op =>| == | < | >= | <= | && | **\n",
    "stmt =>assign | if_stmt\n",
    "assign => var = var\n",
    "var => var _ num | words\n",
    "words => words _ word | word\n",
    "word => name | info | student | lib | database\n",
    "nums => nums num | num\n",
    "num => 1 | 2 | 3 | 4 | 5 | 6 | 7 | 8 | 9 | 0\n",
    "\"\"\""
   ]
  },
  {
   "cell_type": "code",
   "execution_count": 43,
   "metadata": {},
   "outputs": [
    {
     "data": {
      "text/plain": [
       "'info=student_name_info_name_1_9/Nstudent_3_2=student/Ndatabase_7=database_name_database/Nif{student_database_name==name}{change_linename_student_database_lib_7_0=name_database_4_6change_line}'"
      ]
     },
     "execution_count": 43,
     "metadata": {},
     "output_type": "execute_result"
    }
   ],
   "source": [
    "generate_by_str(simple_programming,'programming','=>')"
   ]
  },
  {
   "cell_type": "code",
   "execution_count": 44,
   "metadata": {},
   "outputs": [],
   "source": [
    "def pretty_print(line):\n",
    "    lines = line.split('/N')\n",
    "    code_lines =[]\n",
    "    for i,sen in enumerate(lines):\n",
    "        if i < len(lines)/2:\n",
    "            code_lines.append( i * \" \" + sen)\n",
    "        else:\n",
    "            code_lines.append((len(lines)-i) * \" \" + sen)\n",
    "    return code_lines"
   ]
  },
  {
   "cell_type": "code",
   "execution_count": 45,
   "metadata": {},
   "outputs": [],
   "source": [
    "# def pretty_print(line):\n",
    "#     # utility tool function\n",
    "#     lines = line.split('/N')\n",
    "    \n",
    "#     code_lines = []\n",
    "    \n",
    "#     for i, sen in enumerate(lines):\n",
    "#         if i < len(lines) / 2: \n",
    "#             #print()\n",
    "#             code_lines.append(i * \"  \" + sen)\n",
    "#         else:\n",
    "#             code_lines.append((len(lines) - i) * \" \" + sen)\n",
    "    \n",
    "#     return code_lines"
   ]
  },
  {
   "cell_type": "code",
   "execution_count": 46,
   "metadata": {},
   "outputs": [],
   "source": [
    "generated_programming = []\n",
    "\n",
    "for i in range(20):\n",
    "    generated_programming += pretty_print(generate_by_str(simple_programming,'programming','=>'))"
   ]
  },
  {
   "cell_type": "code",
   "execution_count": 47,
   "metadata": {},
   "outputs": [
    {
     "data": {
      "text/plain": [
       "['name_1=info_student_name_info_4',\n",
       " ' student_name_info=student',\n",
       " ' while{database_student_7>=info_2_7}{change_lineif{info_database_info_lib_6_4_8_9_0name}{change_lineinfo_5_6_0_6=database_info_info_0_6_9_6_5change_line}change_line}',\n",
       " 'name=database_lib_student_lib',\n",
       " ' student_database_5=name',\n",
       " ' info_4_6_0=student_student_student_name_info_lib_database_info_3',\n",
       " 'student_lib_student_info_name=student_database_info_student_name',\n",
       " ' lib=info_info_info_student_database_9_3',\n",
       " '  name_name_student_lib_9_7_4_4_8_4_8=name_9_0_4_1',\n",
       " '  info_student_name_7_5_3=name_database_info_9_5',\n",
       " ' info_name=student_database',\n",
       " 'student_student_student_database_student_2_4=info_database_7',\n",
       " ' database_lib_database=lib_student_7',\n",
       " ' if{lib_database<=name_database}{change_linename_info_database_lib_lib_8=databasechange_line}else{change_lineif{lib_student_lib_8==info_2}{change_lineif{lib_name<=student_5}{change_lineif{student_name_6_4<=lib}{change_lineif{database_info>=info}{change_lineif{student_database_2_7==lib_student_name_2_8}{change_lineif{info_name&&name_8}{change_lineinfo_name_1_3_7_1=info_info_database_studentchange_line}else{change_linelib=info_1_2_7change_line}change_line}change_line}else{change_lineif{info_7_9_5<database_0_7}{change_linestudent=info_databasechange_line}else{change_lineif{database<=student_student_lib}{change_linelib_6=student_lib_1_5_9change_line}else{change_lineif{info_2_1&&database_student_student_1}{change_lineif{student_lib_3_2<lib_3_2}{change_lineif{student_lib_student_5_9_9info_student}{change_lineif{name_2_2<name}{change_linename_student=database_libchange_line}else{change_lineinfo_9_6=lib_libchange_line}change_line}change_line}else{change_lineif{info_name_5<name_student_database_name_student}{change_linename_6=student_studentchange_line}change_line}change_line}change_line}change_line}change_line}change_line}else{change_linedatabase_name_2_9=lib_database_0change_line}change_line}else{change_linelib=database_database_lib_database_8_3_5change_line}change_line}else{change_linedatabase_info_database=database_lib_database_info_3_8change_line}change_line}',\n",
       " 'database_3_5_1=student_name',\n",
       " ' name_database=database',\n",
       " '  info_student=lib',\n",
       " '   lib=info_database',\n",
       " '  student_student=database_database_3',\n",
       " ' if{info_database**info}{change_lineif{lib_lib_info_student_lib>=info_database}{change_linelib_database_info_9_1=name_6_2_7change_line}change_line}else{change_linelib_name=student_1_6_2change_line}',\n",
       " 'student_student=database_lib_student_6',\n",
       " ' database_6_3=lib_lib_student_name',\n",
       " 'student_student_name_name=info_database',\n",
       " ' while{database_6_0**student_1}{change_lineif{name_7&&info}{change_linelib_info=lib_name_name_name_namechange_line}else{change_linename_student=info_student_lib_1_0change_line}change_line}',\n",
       " 'info=info_info',\n",
       " ' info_student_student_info=info_student_lib_info_student_student_lib',\n",
       " ' if{student_name_5&&lib_info_3}{change_linedatabase=databasechange_line}else{change_lineif{database_5&&database_database_name}{change_linedatabase_student_lib_name_lib_lib_student_info=infochange_line}else{change_linedatabase_student_database_lib=info_studentchange_line}change_line}',\n",
       " 'lib_database=student_student_database_info_2_0_5',\n",
       " ' database=lib_5_7',\n",
       " ' info_7_0_9=lib_0_2',\n",
       " 'lib_5_7=student_database_database',\n",
       " ' info=student_info_name_database_info_student_database_lib',\n",
       " 'student_4_6=database_student_database',\n",
       " ' while{lib_8_5_5>=student_info_info}{change_lineif{lib_name_lib_5<=database_7_0_3}{change_linelib_name=student_student_lib_2_0_7_2change_line}change_line}',\n",
       " 'database_6=student_student_database_8_7_9',\n",
       " ' student=name_3',\n",
       " ' lib_info_info_9=database_3',\n",
       " 'lib_5_6_3=info',\n",
       " ' while{database_2_1_3_0_2_5==lib_student_9_4}{change_linedatabase_6=infochange_line}',\n",
       " 'lib_database_name_lib_student=student_database_8_5_6_7',\n",
       " ' student_5_7=database_info',\n",
       " '  lib_student_name_1=student_student_6',\n",
       " '  name_0=lib_name_4_4_3',\n",
       " ' while{lib_lib_name_3&&name_6_0_2_9_0}{change_linelib_name_lib_student=name_infochange_line}',\n",
       " 'lib=info_info_student_name_info_info_lib_name',\n",
       " ' if{lib_info&&name}{change_linename=lib_4change_line}else{change_lineif{database_0_6_4_8**lib_database}{change_lineif{student&&database_2_1_8_9_7_8_5_6_1_1}{change_linename=name_2change_line}else{change_linedatabase_6=infochange_line}change_line}change_line}',\n",
       " 'info_database_7_9=database_info',\n",
       " ' database_name=info_student',\n",
       " ' if{database_8_8_3_6_2**name_student_info_info_name_database_name_9_0}{change_lineif{database_9<info}{change_linelib_student_9=lib_student_7change_line}else{change_lineif{student_5_3name_0_4_2}{change_lineif{student_name>=student}{change_linename_name=database_database_lib_infochange_line}else{change_lineif{name_student_infoinfo_lib_student_8}{change_linename=name_5change_line}else{change_lineif{lib_2_2_9_1_2&&name}{change_lineif{info_2_7<=info_lib_9}{change_lineif{info<=student_6}{change_linestudent_9=info_name_4_5_3_5_1_7change_line}change_line}else{change_linelib=info_databasechange_line}change_line}else{change_linename_name=database_name_namechange_line}change_line}change_line}change_line}change_line}change_line}else{change_lineif{database_libinfo_2_1_3_3_7_7}{change_linestudent_5_3_0_0_2_1=info_student_8_2_4change_line}else{change_linename=lib_1change_line}change_line}',\n",
       " 'name_student_lib_info=name_lib_lib_info_7',\n",
       " ' while{database_0**info_name}{change_lineif{student<info_lib_2_0}{change_lineif{libstudent_5_4_0}{change_lineif{info_9**name_7}{change_linelib=info_8_8change_line}change_line}else{change_linelib_lib=databasechange_line}change_line}else{change_lineinfo_name_lib=info_studentchange_line}change_line}',\n",
       " 'lib_3_8_7=student_2',\n",
       " ' database_student_student_database_info_3_6=lib_info_student_info_lib_database',\n",
       " 'database_database_9_4_1_1=database',\n",
       " ' database_7=name',\n",
       " 'student_lib=lib_student_name_7_6_8',\n",
       " ' name=lib_database_4',\n",
       " ' if{student_info&&info_info_2_9_9_3}{change_lineif{database_info_3**student_6_9_1}{change_lineif{database_8_9**info}{change_linename_student=database_studentchange_line}change_line}else{change_linestudent_0_2_6_3=libchange_line}change_line}']"
      ]
     },
     "execution_count": 47,
     "metadata": {},
     "output_type": "execute_result"
    }
   ],
   "source": [
    "generated_programming"
   ]
  },
  {
   "cell_type": "code",
   "execution_count": 48,
   "metadata": {},
   "outputs": [
    {
     "name": "stdout",
     "output_type": "stream",
     "text": [
      "Lecture-01-Syntax-Tree-and-Language-Model.ipynb  assignments\r\n",
      "Untitled.ipynb\t\t\t\t\t lesson-01-course-code.ipynb\r\n",
      "Untitled1.ipynb\t\t\t\t\t lesson01-for-2020-summer.pptx\r\n",
      "article_9k.txt\t\t\t\t\t train1.ipynb\r\n",
      "article_9k_cut.txt\r\n"
     ]
    }
   ],
   "source": [
    "!ls"
   ]
  },
  {
   "cell_type": "code",
   "execution_count": 49,
   "metadata": {},
   "outputs": [],
   "source": [
    "ARTILES = open('article_9k.txt').read()"
   ]
  },
  {
   "cell_type": "code",
   "execution_count": 50,
   "metadata": {},
   "outputs": [
    {
     "data": {
      "text/plain": [
       "33425826"
      ]
     },
     "execution_count": 50,
     "metadata": {},
     "output_type": "execute_result"
    }
   ],
   "source": [
    "len(ARTILES)"
   ]
  },
  {
   "cell_type": "code",
   "execution_count": 51,
   "metadata": {},
   "outputs": [
    {
     "data": {
      "text/plain": [
       "'此外自本周6月12日起除小米手机6等15款机型外其余机型已暂停更新发布含开发版体验版内测稳定版暂不受影响以确保工程师可以集中全部精力进行系统优化工作有人猜测这也是将精力主要用到MIUI9的研发之中MI'"
      ]
     },
     "execution_count": 51,
     "metadata": {},
     "output_type": "execute_result"
    }
   ],
   "source": [
    "ARTILES[:100]"
   ]
  },
  {
   "cell_type": "code",
   "execution_count": 52,
   "metadata": {},
   "outputs": [],
   "source": [
    "import jieba"
   ]
  },
  {
   "cell_type": "code",
   "execution_count": 53,
   "metadata": {},
   "outputs": [],
   "source": [
    "def cut(string):return list(jieba.cut(string))"
   ]
  },
  {
   "cell_type": "code",
   "execution_count": 54,
   "metadata": {},
   "outputs": [
    {
     "name": "stderr",
     "output_type": "stream",
     "text": [
      "Building prefix dict from the default dictionary ...\n",
      "Loading model from cache /tmp/jieba.cache\n",
      "Dumping model to file cache /tmp/jieba.cache\n",
      "Dump cache file failed.\n",
      "Traceback (most recent call last):\n",
      "  File \"/home/stu_13282409439/.local/lib/python3.7/site-packages/jieba/__init__.py\", line 154, in initialize\n",
      "    _replace_file(fpath, cache_file)\n",
      "PermissionError: [Errno 1] Operation not permitted: '/tmp/tmpz8q8hi71' -> '/tmp/jieba.cache'\n",
      "Loading model cost 0.923 seconds.\n",
      "Prefix dict has been built successfully.\n"
     ]
    },
    {
     "data": {
      "text/plain": [
       "['今天', '星期一', '要', '上班']"
      ]
     },
     "execution_count": 54,
     "metadata": {},
     "output_type": "execute_result"
    }
   ],
   "source": [
    "cut(\"今天星期一要上班\")"
   ]
  },
  {
   "cell_type": "code",
   "execution_count": 55,
   "metadata": {},
   "outputs": [],
   "source": [
    "ALL_TOKENS = cut(ARTILES)"
   ]
  },
  {
   "cell_type": "code",
   "execution_count": 56,
   "metadata": {},
   "outputs": [
    {
     "data": {
      "text/plain": [
       "['此外', '自', '本周', '6', '月', '12', '日起', '除', '小米', '手机']"
      ]
     },
     "execution_count": 56,
     "metadata": {},
     "output_type": "execute_result"
    }
   ],
   "source": [
    "ALL_TOKENS[:10]"
   ]
  },
  {
   "cell_type": "code",
   "execution_count": 57,
   "metadata": {},
   "outputs": [],
   "source": [
    "from collections import Counter"
   ]
  },
  {
   "cell_type": "code",
   "execution_count": 58,
   "metadata": {},
   "outputs": [],
   "source": [
    "word_counts = Counter(ALL_TOKENS)"
   ]
  },
  {
   "cell_type": "code",
   "execution_count": 59,
   "metadata": {},
   "outputs": [
    {
     "data": {
      "text/plain": [
       "[('的', 703716),\n",
       " ('n', 382020),\n",
       " ('在', 263597),\n",
       " ('月', 189330),\n",
       " ('日', 166300),\n",
       " ('新华社', 142462),\n",
       " ('和', 134061),\n",
       " ('年', 123106),\n",
       " ('了', 121938),\n",
       " ('是', 100909),\n",
       " ('\\n', 89611),\n",
       " ('１', 88187),\n",
       " ('０', 84945),\n",
       " ('外代', 83268),\n",
       " ('中', 73926),\n",
       " ('中国', 71179),\n",
       " ('２', 70521),\n",
       " ('2017', 69894),\n",
       " ('记者', 62147),\n",
       " ('二线', 61998),\n",
       " ('将', 61420),\n",
       " ('与', 58309),\n",
       " ('等', 58162),\n",
       " ('为', 57019),\n",
       " ('5', 54578),\n",
       " ('照片', 52271),\n",
       " ('4', 51626),\n",
       " ('对', 50317),\n",
       " ('上', 47452),\n",
       " ('也', 47401),\n",
       " ('有', 45767),\n",
       " ('５', 40857),\n",
       " ('说', 39017),\n",
       " ('发展', 37632),\n",
       " ('他', 37194),\n",
       " ('３', 36906),\n",
       " ('以', 36867),\n",
       " ('国际', 35842),\n",
       " ('nn', 35330),\n",
       " ('４', 34659),\n",
       " ('比赛', 32232),\n",
       " ('６', 30575),\n",
       " ('到', 30109),\n",
       " ('人', 29572),\n",
       " ('从', 29489),\n",
       " ('6', 29002),\n",
       " ('都', 28027),\n",
       " ('不', 27963),\n",
       " ('后', 27393),\n",
       " ('当日', 27186)]"
      ]
     },
     "execution_count": 59,
     "metadata": {},
     "output_type": "execute_result"
    }
   ],
   "source": [
    "word_counts.most_common(50)"
   ]
  },
  {
   "cell_type": "code",
   "execution_count": 60,
   "metadata": {},
   "outputs": [],
   "source": [
    "frequencies = [f for w,f in word_counts.most_common(100)]"
   ]
  },
  {
   "cell_type": "code",
   "execution_count": 61,
   "metadata": {},
   "outputs": [],
   "source": [
    "x = [i for i in range(100)]"
   ]
  },
  {
   "cell_type": "code",
   "execution_count": 62,
   "metadata": {},
   "outputs": [],
   "source": [
    "%matplotlib inline"
   ]
  },
  {
   "cell_type": "code",
   "execution_count": 63,
   "metadata": {},
   "outputs": [],
   "source": [
    "import matplotlib.pyplot as plt"
   ]
  },
  {
   "cell_type": "code",
   "execution_count": 64,
   "metadata": {},
   "outputs": [
    {
     "data": {
      "text/plain": [
       "[<matplotlib.lines.Line2D at 0x7f471c53b810>]"
      ]
     },
     "execution_count": 64,
     "metadata": {},
     "output_type": "execute_result"
    },
    {
     "data": {
      "image/png": "[encoded data removed]",
      "text/plain": [
       "<Figure size 432x288 with 1 Axes>"
      ]
     },
     "metadata": {
      "needs_background": "light"
     },
     "output_type": "display_data"
    }
   ],
   "source": [
    "plt.plot(x,frequencies)"
   ]
  },
  {
   "cell_type": "markdown",
   "metadata": {},
   "source": [
    "# 1_gram"
   ]
  },
  {
   "cell_type": "code",
   "execution_count": 65,
   "metadata": {},
   "outputs": [],
   "source": [
    "most_common_500 = [w for w,f in word_counts.most_common(500)]"
   ]
  },
  {
   "cell_type": "code",
   "execution_count": 66,
   "metadata": {},
   "outputs": [],
   "source": [
    "most_common_to_10000_100500 = [w for w,f in word_counts.most_common(50000)][500:]"
   ]
  },
  {
   "cell_type": "code",
   "execution_count": 67,
   "metadata": {},
   "outputs": [
    {
     "data": {
      "text/plain": [
       "'小去发生年该学习冠军中促进这种'"
      ]
     },
     "execution_count": 67,
     "metadata": {},
     "output_type": "execute_result"
    }
   ],
   "source": [
    "''.join(random.sample(most_common_500,k=10))"
   ]
  },
  {
   "cell_type": "code",
   "execution_count": 68,
   "metadata": {},
   "outputs": [
    {
     "data": {
      "text/plain": [
       "'路透-足球-但-巴黎-选手-还有-用户-比-自己-发布'"
      ]
     },
     "execution_count": 68,
     "metadata": {},
     "output_type": "execute_result"
    }
   ],
   "source": [
    "'-'.join(random.sample(most_common_500,k=10))"
   ]
  },
  {
   "cell_type": "code",
   "execution_count": 69,
   "metadata": {},
   "outputs": [
    {
     "data": {
      "text/plain": [
       "'中国工程院乡贤陶器维度全面推行互信出炉雁过拔毛活下去大手笔'"
      ]
     },
     "execution_count": 69,
     "metadata": {},
     "output_type": "execute_result"
    }
   ],
   "source": [
    "''.join(random.sample(most_common_to_10000_100500,k=10))"
   ]
  },
  {
   "cell_type": "code",
   "execution_count": 70,
   "metadata": {},
   "outputs": [],
   "source": [
    "min_frequences = min([f for w, f in word_counts.most_common()])\n",
    "\n",
    "def prob_1(word):\n",
    "    if word in word_counts:\n",
    "        return word_counts[word]/len(ALL_TOKENS)\n",
    "    else:\n",
    "        return min_frequences / len(ALL_TOKENS)"
   ]
  },
  {
   "cell_type": "code",
   "execution_count": 71,
   "metadata": {},
   "outputs": [
    {
     "data": {
      "text/plain": [
       "0.004040071167097489"
      ]
     },
     "execution_count": 71,
     "metadata": {},
     "output_type": "execute_result"
    }
   ],
   "source": [
    "prob_1('中国')"
   ]
  },
  {
   "cell_type": "code",
   "execution_count": 72,
   "metadata": {},
   "outputs": [
    {
     "data": {
      "text/plain": [
       "0.0014465111014973448"
      ]
     },
     "execution_count": 72,
     "metadata": {},
     "output_type": "execute_result"
    }
   ],
   "source": [
    "prob_1('美国')"
   ]
  },
  {
   "cell_type": "code",
   "execution_count": 73,
   "metadata": {},
   "outputs": [],
   "source": [
    "from functools import reduce"
   ]
  },
  {
   "cell_type": "code",
   "execution_count": 74,
   "metadata": {},
   "outputs": [],
   "source": [
    "from operator import mul"
   ]
  },
  {
   "cell_type": "code",
   "execution_count": 75,
   "metadata": {},
   "outputs": [
    {
     "data": {
      "text/plain": [
       "40320"
      ]
     },
     "execution_count": 75,
     "metadata": {},
     "output_type": "execute_result"
    }
   ],
   "source": [
    "reduce(mul,range(1,9))"
   ]
  },
  {
   "cell_type": "code",
   "execution_count": 76,
   "metadata": {},
   "outputs": [],
   "source": [
    "def _1_gram(sentence):\n",
    "    words = cut(sentence)\n",
    "    \n",
    "    return reduce(mul,[prob_1(w) for w in words])"
   ]
  },
  {
   "cell_type": "code",
   "execution_count": 77,
   "metadata": {},
   "outputs": [
    {
     "data": {
      "text/plain": [
       "5.893846668048513e-15"
      ]
     },
     "execution_count": 77,
     "metadata": {},
     "output_type": "execute_result"
    }
   ],
   "source": [
    "_1_gram('我今天不上班')"
   ]
  },
  {
   "cell_type": "code",
   "execution_count": 78,
   "metadata": {},
   "outputs": [
    {
     "data": {
      "text/plain": [
       "2.282860481504227e-12"
      ]
     },
     "execution_count": 78,
     "metadata": {},
     "output_type": "execute_result"
    }
   ],
   "source": [
    "_1_gram('我今天开花')"
   ]
  },
  {
   "cell_type": "code",
   "execution_count": 79,
   "metadata": {},
   "outputs": [
    {
     "ename": "SyntaxError",
     "evalue": "can't assign to function call (<ipython-input-79-34dc1048ca16>, line 1)",
     "output_type": "error",
     "traceback": [
      "\u001b[0;36m  File \u001b[0;32m\"<ipython-input-79-34dc1048ca16>\"\u001b[0;36m, line \u001b[0;32m1\u001b[0m\n\u001b[0;31m    Pr(你 | 今天) = count(你今天)/ count(你)\u001b[0m\n\u001b[0m                                     ^\u001b[0m\n\u001b[0;31mSyntaxError\u001b[0m\u001b[0;31m:\u001b[0m can't assign to function call\n"
     ]
    }
   ],
   "source": [
    "Pr(你 | 今天) = count(你今天)/ count(你)"
   ]
  },
  {
   "cell_type": "markdown",
   "metadata": {},
   "source": [
    "$$2-gram= 𝑃𝑟(𝑤_1∗𝑤_2..𝑤_𝑛)=\\quad\\prod_i^n\\frac{𝑐𝑜𝑢𝑛𝑡(𝑤_𝑖𝑤_{𝑖+1})}{𝑐𝑜𝑢𝑛𝑡(𝑤_{𝑖+1})}𝑃𝑟(𝑤_𝑛)$$"
   ]
  },
  {
   "cell_type": "code",
   "execution_count": 80,
   "metadata": {},
   "outputs": [],
   "source": [
    "TOKEN_2_GRAM = [''.join(ALL_TOKENS[i:i+2]) for i in range(len(ALL_TOKENS[:-2]))]"
   ]
  },
  {
   "cell_type": "code",
   "execution_count": 81,
   "metadata": {},
   "outputs": [
    {
     "data": {
      "text/plain": [
       "17618254"
      ]
     },
     "execution_count": 81,
     "metadata": {},
     "output_type": "execute_result"
    }
   ],
   "source": [
    "len(ALL_TOKENS)"
   ]
  },
  {
   "cell_type": "code",
   "execution_count": 82,
   "metadata": {},
   "outputs": [
    {
     "data": {
      "text/plain": [
       "17618252"
      ]
     },
     "execution_count": 82,
     "metadata": {},
     "output_type": "execute_result"
    }
   ],
   "source": [
    "len(TOKEN_2_GRAM)"
   ]
  },
  {
   "cell_type": "code",
   "execution_count": 83,
   "metadata": {},
   "outputs": [],
   "source": [
    "# len(ALL_TOKENS[:-2])"
   ]
  },
  {
   "cell_type": "code",
   "execution_count": 84,
   "metadata": {},
   "outputs": [
    {
     "data": {
      "text/plain": [
       "['此外自', '自本周', '本周6', '6月', '月12', '12日起', '日起除', '除小米', '小米手机', '手机6']"
      ]
     },
     "execution_count": 84,
     "metadata": {},
     "output_type": "execute_result"
    }
   ],
   "source": [
    "TOKEN_2_GRAM[:10]"
   ]
  },
  {
   "cell_type": "code",
   "execution_count": 85,
   "metadata": {},
   "outputs": [],
   "source": [
    "word_count_2 = Counter(TOKEN_2_GRAM)"
   ]
  },
  {
   "cell_type": "code",
   "execution_count": 86,
   "metadata": {},
   "outputs": [],
   "source": [
    "def prob_2(word1,word2):\n",
    "    combine = word1+word2\n",
    "    if combine in word_count_2:\n",
    "        return word_count_2[combine] / word_counts[word2]\n",
    "    else:\n",
    "        return 1 / len(word_counts)\n",
    "    \n",
    "def _2_gram(sentence):\n",
    "    words = cut(sentence)\n",
    "    \n",
    "    prob = 1\n",
    "    \n",
    "    for i in range(len(words)-1):\n",
    "        word,next_word = words[i],words[i+1]\n",
    "        \n",
    "        prob *= prob_2(word,next_word)\n",
    "        \n",
    "    prob *=prob_1(words[-1])\n",
    "    \n",
    "    return prob"
   ]
  },
  {
   "cell_type": "code",
   "execution_count": 87,
   "metadata": {},
   "outputs": [
    {
     "data": {
      "text/plain": [
       "6.899794487395517e-18"
      ]
     },
     "execution_count": 87,
     "metadata": {},
     "output_type": "execute_result"
    }
   ],
   "source": [
    "_2_gram('美国发射了一颗卫生')"
   ]
  },
  {
   "cell_type": "code",
   "execution_count": 88,
   "metadata": {},
   "outputs": [
    {
     "data": {
      "text/plain": [
       "5.966101590759155e-15"
      ]
     },
     "execution_count": 88,
     "metadata": {},
     "output_type": "execute_result"
    }
   ],
   "source": [
    "_2_gram('美国发射了一个水桶')"
   ]
  },
  {
   "cell_type": "code",
   "execution_count": 89,
   "metadata": {},
   "outputs": [],
   "source": [
    "need_compared = [\n",
    "    ('今天晚上请你吃大餐，我们一起吃日料', '今天晚上请你吃大餐，我们一起吃苹果'),\n",
    "    ('真是一只好看的小猫', '真事一只好看的小猫'),\n",
    "    ('今晚我去吃火锅', '今晚火锅去吃我'),\n",
    "    ('洋葱奶昔来一杯', '养乐多绿来一杯')\n",
    "]"
   ]
  },
  {
   "cell_type": "code",
   "execution_count": 90,
   "metadata": {},
   "outputs": [
    {
     "name": "stdout",
     "output_type": "stream",
     "text": [
      "Pr(今天晚上请你吃大餐，我们一起吃日料)=1.5903389425741782e-45\n",
      "Pr(今天晚上请你吃大餐，我们一起吃苹果)=8.703384317468003e-40\n",
      "Pr(真是一只好看的小猫)=8.273018279582945e-22\n",
      "Pr(真事一只好看的小猫)=3.0233993266831647e-27\n",
      "Pr(今晚我去吃火锅)=1.7325227255339101e-18\n",
      "Pr(今晚火锅去吃我)=1.4852604423993444e-20\n",
      "Pr(洋葱奶昔来一杯)=7.580540796399728e-19\n",
      "Pr(养乐多绿来一杯)=7.125708348615745e-17\n"
     ]
    }
   ],
   "source": [
    "for s1, s2 in need_compared:\n",
    "    print('Pr({})={}'.format(s1,_2_gram(s1)))\n",
    "    print('Pr({})={}'.format(s2,_2_gram(s2)))"
   ]
  }
 ],
 "metadata": {
  "kernelspec": {
   "display_name": "Python 3",
   "language": "python",
   "name": "python3"
  },
  "language_info": {
   "codemirror_mode": {
    "name": "ipython",
    "version": 3
   },
   "file_extension": ".py",
   "mimetype": "text/x-python",
   "name": "python",
   "nbconvert_exporter": "python",
   "pygments_lexer": "ipython3",
   "version": "3.7.6"
  }
 },
 "nbformat": 4,
 "nbformat_minor": 4
}
